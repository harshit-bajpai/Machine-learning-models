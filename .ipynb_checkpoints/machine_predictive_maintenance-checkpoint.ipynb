{
 "cells": [
  {
   "cell_type": "markdown",
   "metadata": {},
   "source": [
    "# Predictive Maintenance of machines"
   ]
  },
  {
   "cell_type": "markdown",
   "metadata": {},
   "source": [
    "## Data Information"
   ]
  },
  {
   "cell_type": "markdown",
   "metadata": {},
   "source": [
    "### Source"
   ]
  },
  {
   "cell_type": "markdown",
   "metadata": {},
   "source": [
    "The notebook is based on a predictive maintenance use case from the energy industry. The data is downloaded from Microsoft Azure [MLWorkshop](https://github.com/microsoft/AMLWorkshop) <br>\n",
    "The input data are simulated (and simplified) telemetry and machine log readings from a hydropower turbine.The goal is to create an interpretable classification model that can predict the turbine failure. Specifically, whether the turbine will experience a component failure in the 24 hours following the given telemetry and error reading."
   ]
  },
  {
   "cell_type": "markdown",
   "metadata": {},
   "source": [
    "### Data files"
   ]
  },
  {
   "cell_type": "markdown",
   "metadata": {},
   "source": [
    "The data comes from 4 different sources which are:\n",
    "    \n",
    "- real-time telemetry data collected from machines \n",
    "- error messages\n",
    "- failure history\n",
    "- machine information such as type and age"
   ]
  },
  {
   "cell_type": "markdown",
   "metadata": {},
   "source": [
    "## Notebook setup"
   ]
  },
  {
   "cell_type": "code",
   "execution_count": 1,
   "metadata": {},
   "outputs": [],
   "source": [
    "#Common imports\n",
    "import sys\n",
    "import os\n",
    "import numpy as np\n",
    "\n",
    "#Python Data Analysis Library\n",
    "import pandas as pd\n",
    "\n",
    "#Data visualization\n",
    "%matplotlib inline \n",
    "#sets the backend of matplotlib to the 'inline' backend\n",
    "#%matplotlib notebook\n",
    "import matplotlib\n",
    "import seaborn as sns\n",
    "import matplotlib.pyplot as plt\n",
    "\n",
    "# Ignore useless warnings (see SciPy issue #5998)\n",
    "import warnings\n",
    "warnings.filterwarnings(action=\"ignore\", message=\"^internal gelsd\")\n",
    "\n",
    "#Data pretty printer\n",
    "from pprint import pprint"
   ]
  },
  {
   "cell_type": "markdown",
   "metadata": {},
   "source": [
    "## Data import"
   ]
  },
  {
   "cell_type": "code",
   "execution_count": 2,
   "metadata": {},
   "outputs": [],
   "source": [
    "df = pd.read_csv('datasets/machine_predictive_maintenance/features.csv')"
   ]
  },
  {
   "cell_type": "code",
   "execution_count": 3,
   "metadata": {},
   "outputs": [
    {
     "name": "stdout",
     "output_type": "stream",
     "text": [
      "<class 'pandas.core.frame.DataFrame'>\n",
      "RangeIndex: 291300 entries, 0 to 291299\n",
      "Data columns (total 18 columns):\n",
      "datetime         291300 non-null object\n",
      "machineID        291300 non-null int64\n",
      "voltmean         291300 non-null float64\n",
      "rotatemean       291300 non-null float64\n",
      "pressuremean     291300 non-null float64\n",
      "vibrationmean    291300 non-null float64\n",
      "voltsd           291300 non-null float64\n",
      "rotatesd         291300 non-null float64\n",
      "pressuresd       291300 non-null float64\n",
      "vibrationsd      291300 non-null float64\n",
      "error1count      291300 non-null float64\n",
      "error2count      291300 non-null float64\n",
      "error3count      291300 non-null float64\n",
      "error4count      291300 non-null float64\n",
      "error5count      291300 non-null float64\n",
      "model            291300 non-null object\n",
      "age              291300 non-null int64\n",
      "failure          291300 non-null bool\n",
      "dtypes: bool(1), float64(13), int64(2), object(2)\n",
      "memory usage: 38.1+ MB\n"
     ]
    }
   ],
   "source": [
    "df.info()"
   ]
  },
  {
   "cell_type": "code",
   "execution_count": 4,
   "metadata": {},
   "outputs": [
    {
     "data": {
      "text/html": [
       "<div>\n",
       "<style scoped>\n",
       "    .dataframe tbody tr th:only-of-type {\n",
       "        vertical-align: middle;\n",
       "    }\n",
       "\n",
       "    .dataframe tbody tr th {\n",
       "        vertical-align: top;\n",
       "    }\n",
       "\n",
       "    .dataframe thead th {\n",
       "        text-align: right;\n",
       "    }\n",
       "</style>\n",
       "<table border=\"1\" class=\"dataframe\">\n",
       "  <thead>\n",
       "    <tr style=\"text-align: right;\">\n",
       "      <th></th>\n",
       "      <th>datetime</th>\n",
       "      <th>machineID</th>\n",
       "      <th>voltmean</th>\n",
       "      <th>rotatemean</th>\n",
       "      <th>pressuremean</th>\n",
       "      <th>vibrationmean</th>\n",
       "      <th>voltsd</th>\n",
       "      <th>rotatesd</th>\n",
       "      <th>pressuresd</th>\n",
       "      <th>vibrationsd</th>\n",
       "      <th>error1count</th>\n",
       "      <th>error2count</th>\n",
       "      <th>error3count</th>\n",
       "      <th>error4count</th>\n",
       "      <th>error5count</th>\n",
       "      <th>model</th>\n",
       "      <th>age</th>\n",
       "      <th>failure</th>\n",
       "    </tr>\n",
       "  </thead>\n",
       "  <tbody>\n",
       "    <tr>\n",
       "      <th>0</th>\n",
       "      <td>2015-01-02T05:00:00Z</td>\n",
       "      <td>1</td>\n",
       "      <td>169.733809</td>\n",
       "      <td>445.179865</td>\n",
       "      <td>96.797113</td>\n",
       "      <td>40.385160</td>\n",
       "      <td>11.233120</td>\n",
       "      <td>48.717395</td>\n",
       "      <td>10.079880</td>\n",
       "      <td>5.853209</td>\n",
       "      <td>0.0</td>\n",
       "      <td>0.0</td>\n",
       "      <td>0.0</td>\n",
       "      <td>0.0</td>\n",
       "      <td>0.0</td>\n",
       "      <td>model3</td>\n",
       "      <td>18</td>\n",
       "      <td>False</td>\n",
       "    </tr>\n",
       "    <tr>\n",
       "      <th>1</th>\n",
       "      <td>2015-01-02T08:00:00Z</td>\n",
       "      <td>1</td>\n",
       "      <td>170.525721</td>\n",
       "      <td>443.906847</td>\n",
       "      <td>97.667249</td>\n",
       "      <td>39.786670</td>\n",
       "      <td>12.591948</td>\n",
       "      <td>46.930282</td>\n",
       "      <td>9.406795</td>\n",
       "      <td>6.098173</td>\n",
       "      <td>0.0</td>\n",
       "      <td>0.0</td>\n",
       "      <td>0.0</td>\n",
       "      <td>0.0</td>\n",
       "      <td>0.0</td>\n",
       "      <td>model3</td>\n",
       "      <td>18</td>\n",
       "      <td>False</td>\n",
       "    </tr>\n",
       "    <tr>\n",
       "      <th>2</th>\n",
       "      <td>2015-01-02T11:00:00Z</td>\n",
       "      <td>1</td>\n",
       "      <td>170.049722</td>\n",
       "      <td>446.461279</td>\n",
       "      <td>96.906162</td>\n",
       "      <td>40.016513</td>\n",
       "      <td>13.277336</td>\n",
       "      <td>42.836780</td>\n",
       "      <td>9.071472</td>\n",
       "      <td>5.481724</td>\n",
       "      <td>0.0</td>\n",
       "      <td>0.0</td>\n",
       "      <td>0.0</td>\n",
       "      <td>0.0</td>\n",
       "      <td>0.0</td>\n",
       "      <td>model3</td>\n",
       "      <td>18</td>\n",
       "      <td>False</td>\n",
       "    </tr>\n",
       "    <tr>\n",
       "      <th>3</th>\n",
       "      <td>2015-01-02T14:00:00Z</td>\n",
       "      <td>1</td>\n",
       "      <td>170.341974</td>\n",
       "      <td>447.355315</td>\n",
       "      <td>96.229522</td>\n",
       "      <td>39.921963</td>\n",
       "      <td>13.817158</td>\n",
       "      <td>42.808633</td>\n",
       "      <td>8.256794</td>\n",
       "      <td>5.862312</td>\n",
       "      <td>0.0</td>\n",
       "      <td>0.0</td>\n",
       "      <td>0.0</td>\n",
       "      <td>0.0</td>\n",
       "      <td>0.0</td>\n",
       "      <td>model3</td>\n",
       "      <td>18</td>\n",
       "      <td>False</td>\n",
       "    </tr>\n",
       "    <tr>\n",
       "      <th>4</th>\n",
       "      <td>2015-01-02T17:00:00Z</td>\n",
       "      <td>1</td>\n",
       "      <td>170.060643</td>\n",
       "      <td>452.163407</td>\n",
       "      <td>96.357441</td>\n",
       "      <td>39.990470</td>\n",
       "      <td>14.792869</td>\n",
       "      <td>42.525293</td>\n",
       "      <td>8.669605</td>\n",
       "      <td>5.907157</td>\n",
       "      <td>0.0</td>\n",
       "      <td>0.0</td>\n",
       "      <td>0.0</td>\n",
       "      <td>0.0</td>\n",
       "      <td>0.0</td>\n",
       "      <td>model3</td>\n",
       "      <td>18</td>\n",
       "      <td>False</td>\n",
       "    </tr>\n",
       "  </tbody>\n",
       "</table>\n",
       "</div>"
      ],
      "text/plain": [
       "               datetime  machineID    voltmean  rotatemean  pressuremean  \\\n",
       "0  2015-01-02T05:00:00Z          1  169.733809  445.179865     96.797113   \n",
       "1  2015-01-02T08:00:00Z          1  170.525721  443.906847     97.667249   \n",
       "2  2015-01-02T11:00:00Z          1  170.049722  446.461279     96.906162   \n",
       "3  2015-01-02T14:00:00Z          1  170.341974  447.355315     96.229522   \n",
       "4  2015-01-02T17:00:00Z          1  170.060643  452.163407     96.357441   \n",
       "\n",
       "   vibrationmean     voltsd   rotatesd  pressuresd  vibrationsd  error1count  \\\n",
       "0      40.385160  11.233120  48.717395   10.079880     5.853209          0.0   \n",
       "1      39.786670  12.591948  46.930282    9.406795     6.098173          0.0   \n",
       "2      40.016513  13.277336  42.836780    9.071472     5.481724          0.0   \n",
       "3      39.921963  13.817158  42.808633    8.256794     5.862312          0.0   \n",
       "4      39.990470  14.792869  42.525293    8.669605     5.907157          0.0   \n",
       "\n",
       "   error2count  error3count  error4count  error5count   model  age  failure  \n",
       "0          0.0          0.0          0.0          0.0  model3   18    False  \n",
       "1          0.0          0.0          0.0          0.0  model3   18    False  \n",
       "2          0.0          0.0          0.0          0.0  model3   18    False  \n",
       "3          0.0          0.0          0.0          0.0  model3   18    False  \n",
       "4          0.0          0.0          0.0          0.0  model3   18    False  "
      ]
     },
     "execution_count": 4,
     "metadata": {},
     "output_type": "execute_result"
    }
   ],
   "source": [
    "df.head()"
   ]
  },
  {
   "cell_type": "markdown",
   "metadata": {},
   "source": [
    "## Data engineering"
   ]
  },
  {
   "cell_type": "code",
   "execution_count": 5,
   "metadata": {},
   "outputs": [],
   "source": [
    "df.datetime = pd.to_datetime(df.datetime)"
   ]
  },
  {
   "cell_type": "code",
   "execution_count": 6,
   "metadata": {
    "scrolled": false
   },
   "outputs": [
    {
     "data": {
      "text/html": [
       "<div>\n",
       "<style scoped>\n",
       "    .dataframe tbody tr th:only-of-type {\n",
       "        vertical-align: middle;\n",
       "    }\n",
       "\n",
       "    .dataframe tbody tr th {\n",
       "        vertical-align: top;\n",
       "    }\n",
       "\n",
       "    .dataframe thead th {\n",
       "        text-align: right;\n",
       "    }\n",
       "</style>\n",
       "<table border=\"1\" class=\"dataframe\">\n",
       "  <thead>\n",
       "    <tr style=\"text-align: right;\">\n",
       "      <th></th>\n",
       "      <th>datetime</th>\n",
       "      <th>machineID</th>\n",
       "      <th>voltmean</th>\n",
       "      <th>rotatemean</th>\n",
       "      <th>pressuremean</th>\n",
       "      <th>vibrationmean</th>\n",
       "      <th>voltsd</th>\n",
       "      <th>rotatesd</th>\n",
       "      <th>pressuresd</th>\n",
       "      <th>vibrationsd</th>\n",
       "      <th>error1count</th>\n",
       "      <th>error2count</th>\n",
       "      <th>error3count</th>\n",
       "      <th>error4count</th>\n",
       "      <th>error5count</th>\n",
       "      <th>model</th>\n",
       "      <th>age</th>\n",
       "      <th>failure</th>\n",
       "    </tr>\n",
       "  </thead>\n",
       "  <tbody>\n",
       "    <tr>\n",
       "      <th>0</th>\n",
       "      <td>2015-01-02 05:00:00+00:00</td>\n",
       "      <td>1</td>\n",
       "      <td>169.733809</td>\n",
       "      <td>445.179865</td>\n",
       "      <td>96.797113</td>\n",
       "      <td>40.385160</td>\n",
       "      <td>11.233120</td>\n",
       "      <td>48.717395</td>\n",
       "      <td>10.079880</td>\n",
       "      <td>5.853209</td>\n",
       "      <td>0.0</td>\n",
       "      <td>0.0</td>\n",
       "      <td>0.0</td>\n",
       "      <td>0.0</td>\n",
       "      <td>0.0</td>\n",
       "      <td>model3</td>\n",
       "      <td>18</td>\n",
       "      <td>False</td>\n",
       "    </tr>\n",
       "    <tr>\n",
       "      <th>1</th>\n",
       "      <td>2015-01-02 08:00:00+00:00</td>\n",
       "      <td>1</td>\n",
       "      <td>170.525721</td>\n",
       "      <td>443.906847</td>\n",
       "      <td>97.667249</td>\n",
       "      <td>39.786670</td>\n",
       "      <td>12.591948</td>\n",
       "      <td>46.930282</td>\n",
       "      <td>9.406795</td>\n",
       "      <td>6.098173</td>\n",
       "      <td>0.0</td>\n",
       "      <td>0.0</td>\n",
       "      <td>0.0</td>\n",
       "      <td>0.0</td>\n",
       "      <td>0.0</td>\n",
       "      <td>model3</td>\n",
       "      <td>18</td>\n",
       "      <td>False</td>\n",
       "    </tr>\n",
       "    <tr>\n",
       "      <th>2</th>\n",
       "      <td>2015-01-02 11:00:00+00:00</td>\n",
       "      <td>1</td>\n",
       "      <td>170.049722</td>\n",
       "      <td>446.461279</td>\n",
       "      <td>96.906162</td>\n",
       "      <td>40.016513</td>\n",
       "      <td>13.277336</td>\n",
       "      <td>42.836780</td>\n",
       "      <td>9.071472</td>\n",
       "      <td>5.481724</td>\n",
       "      <td>0.0</td>\n",
       "      <td>0.0</td>\n",
       "      <td>0.0</td>\n",
       "      <td>0.0</td>\n",
       "      <td>0.0</td>\n",
       "      <td>model3</td>\n",
       "      <td>18</td>\n",
       "      <td>False</td>\n",
       "    </tr>\n",
       "    <tr>\n",
       "      <th>3</th>\n",
       "      <td>2015-01-02 14:00:00+00:00</td>\n",
       "      <td>1</td>\n",
       "      <td>170.341974</td>\n",
       "      <td>447.355315</td>\n",
       "      <td>96.229522</td>\n",
       "      <td>39.921963</td>\n",
       "      <td>13.817158</td>\n",
       "      <td>42.808633</td>\n",
       "      <td>8.256794</td>\n",
       "      <td>5.862312</td>\n",
       "      <td>0.0</td>\n",
       "      <td>0.0</td>\n",
       "      <td>0.0</td>\n",
       "      <td>0.0</td>\n",
       "      <td>0.0</td>\n",
       "      <td>model3</td>\n",
       "      <td>18</td>\n",
       "      <td>False</td>\n",
       "    </tr>\n",
       "    <tr>\n",
       "      <th>4</th>\n",
       "      <td>2015-01-02 17:00:00+00:00</td>\n",
       "      <td>1</td>\n",
       "      <td>170.060643</td>\n",
       "      <td>452.163407</td>\n",
       "      <td>96.357441</td>\n",
       "      <td>39.990470</td>\n",
       "      <td>14.792869</td>\n",
       "      <td>42.525293</td>\n",
       "      <td>8.669605</td>\n",
       "      <td>5.907157</td>\n",
       "      <td>0.0</td>\n",
       "      <td>0.0</td>\n",
       "      <td>0.0</td>\n",
       "      <td>0.0</td>\n",
       "      <td>0.0</td>\n",
       "      <td>model3</td>\n",
       "      <td>18</td>\n",
       "      <td>False</td>\n",
       "    </tr>\n",
       "    <tr>\n",
       "      <th>5</th>\n",
       "      <td>2015-01-02 20:00:00+00:00</td>\n",
       "      <td>1</td>\n",
       "      <td>169.369283</td>\n",
       "      <td>453.336163</td>\n",
       "      <td>98.042007</td>\n",
       "      <td>39.531667</td>\n",
       "      <td>15.674787</td>\n",
       "      <td>41.689624</td>\n",
       "      <td>10.607947</td>\n",
       "      <td>6.205887</td>\n",
       "      <td>0.0</td>\n",
       "      <td>0.0</td>\n",
       "      <td>0.0</td>\n",
       "      <td>0.0</td>\n",
       "      <td>0.0</td>\n",
       "      <td>model3</td>\n",
       "      <td>18</td>\n",
       "      <td>False</td>\n",
       "    </tr>\n",
       "    <tr>\n",
       "      <th>6</th>\n",
       "      <td>2015-01-02 23:00:00+00:00</td>\n",
       "      <td>1</td>\n",
       "      <td>169.795758</td>\n",
       "      <td>446.832666</td>\n",
       "      <td>98.454608</td>\n",
       "      <td>39.271645</td>\n",
       "      <td>15.742155</td>\n",
       "      <td>38.800266</td>\n",
       "      <td>11.679314</td>\n",
       "      <td>5.579524</td>\n",
       "      <td>0.0</td>\n",
       "      <td>0.0</td>\n",
       "      <td>0.0</td>\n",
       "      <td>0.0</td>\n",
       "      <td>0.0</td>\n",
       "      <td>model3</td>\n",
       "      <td>18</td>\n",
       "      <td>False</td>\n",
       "    </tr>\n",
       "    <tr>\n",
       "      <th>7</th>\n",
       "      <td>2015-01-03 02:00:00+00:00</td>\n",
       "      <td>1</td>\n",
       "      <td>170.162325</td>\n",
       "      <td>450.221017</td>\n",
       "      <td>100.880519</td>\n",
       "      <td>38.838137</td>\n",
       "      <td>15.801770</td>\n",
       "      <td>40.490000</td>\n",
       "      <td>11.323930</td>\n",
       "      <td>5.565239</td>\n",
       "      <td>0.0</td>\n",
       "      <td>0.0</td>\n",
       "      <td>0.0</td>\n",
       "      <td>0.0</td>\n",
       "      <td>0.0</td>\n",
       "      <td>model3</td>\n",
       "      <td>18</td>\n",
       "      <td>False</td>\n",
       "    </tr>\n",
       "    <tr>\n",
       "      <th>8</th>\n",
       "      <td>2015-01-03 05:00:00+00:00</td>\n",
       "      <td>1</td>\n",
       "      <td>170.356866</td>\n",
       "      <td>454.242875</td>\n",
       "      <td>100.787669</td>\n",
       "      <td>38.471831</td>\n",
       "      <td>15.033766</td>\n",
       "      <td>40.858613</td>\n",
       "      <td>11.384920</td>\n",
       "      <td>5.121860</td>\n",
       "      <td>0.0</td>\n",
       "      <td>0.0</td>\n",
       "      <td>0.0</td>\n",
       "      <td>0.0</td>\n",
       "      <td>0.0</td>\n",
       "      <td>model3</td>\n",
       "      <td>18</td>\n",
       "      <td>False</td>\n",
       "    </tr>\n",
       "    <tr>\n",
       "      <th>9</th>\n",
       "      <td>2015-01-03 08:00:00+00:00</td>\n",
       "      <td>1</td>\n",
       "      <td>169.859196</td>\n",
       "      <td>462.466826</td>\n",
       "      <td>100.409064</td>\n",
       "      <td>40.204330</td>\n",
       "      <td>13.953164</td>\n",
       "      <td>44.269134</td>\n",
       "      <td>10.765817</td>\n",
       "      <td>6.023521</td>\n",
       "      <td>1.0</td>\n",
       "      <td>0.0</td>\n",
       "      <td>0.0</td>\n",
       "      <td>0.0</td>\n",
       "      <td>0.0</td>\n",
       "      <td>model3</td>\n",
       "      <td>18</td>\n",
       "      <td>False</td>\n",
       "    </tr>\n",
       "  </tbody>\n",
       "</table>\n",
       "</div>"
      ],
      "text/plain": [
       "                   datetime  machineID    voltmean  rotatemean  pressuremean  \\\n",
       "0 2015-01-02 05:00:00+00:00          1  169.733809  445.179865     96.797113   \n",
       "1 2015-01-02 08:00:00+00:00          1  170.525721  443.906847     97.667249   \n",
       "2 2015-01-02 11:00:00+00:00          1  170.049722  446.461279     96.906162   \n",
       "3 2015-01-02 14:00:00+00:00          1  170.341974  447.355315     96.229522   \n",
       "4 2015-01-02 17:00:00+00:00          1  170.060643  452.163407     96.357441   \n",
       "5 2015-01-02 20:00:00+00:00          1  169.369283  453.336163     98.042007   \n",
       "6 2015-01-02 23:00:00+00:00          1  169.795758  446.832666     98.454608   \n",
       "7 2015-01-03 02:00:00+00:00          1  170.162325  450.221017    100.880519   \n",
       "8 2015-01-03 05:00:00+00:00          1  170.356866  454.242875    100.787669   \n",
       "9 2015-01-03 08:00:00+00:00          1  169.859196  462.466826    100.409064   \n",
       "\n",
       "   vibrationmean     voltsd   rotatesd  pressuresd  vibrationsd  error1count  \\\n",
       "0      40.385160  11.233120  48.717395   10.079880     5.853209          0.0   \n",
       "1      39.786670  12.591948  46.930282    9.406795     6.098173          0.0   \n",
       "2      40.016513  13.277336  42.836780    9.071472     5.481724          0.0   \n",
       "3      39.921963  13.817158  42.808633    8.256794     5.862312          0.0   \n",
       "4      39.990470  14.792869  42.525293    8.669605     5.907157          0.0   \n",
       "5      39.531667  15.674787  41.689624   10.607947     6.205887          0.0   \n",
       "6      39.271645  15.742155  38.800266   11.679314     5.579524          0.0   \n",
       "7      38.838137  15.801770  40.490000   11.323930     5.565239          0.0   \n",
       "8      38.471831  15.033766  40.858613   11.384920     5.121860          0.0   \n",
       "9      40.204330  13.953164  44.269134   10.765817     6.023521          1.0   \n",
       "\n",
       "   error2count  error3count  error4count  error5count   model  age  failure  \n",
       "0          0.0          0.0          0.0          0.0  model3   18    False  \n",
       "1          0.0          0.0          0.0          0.0  model3   18    False  \n",
       "2          0.0          0.0          0.0          0.0  model3   18    False  \n",
       "3          0.0          0.0          0.0          0.0  model3   18    False  \n",
       "4          0.0          0.0          0.0          0.0  model3   18    False  \n",
       "5          0.0          0.0          0.0          0.0  model3   18    False  \n",
       "6          0.0          0.0          0.0          0.0  model3   18    False  \n",
       "7          0.0          0.0          0.0          0.0  model3   18    False  \n",
       "8          0.0          0.0          0.0          0.0  model3   18    False  \n",
       "9          0.0          0.0          0.0          0.0  model3   18    False  "
      ]
     },
     "execution_count": 6,
     "metadata": {},
     "output_type": "execute_result"
    }
   ],
   "source": [
    "df.head(10)"
   ]
  },
  {
   "cell_type": "code",
   "execution_count": 7,
   "metadata": {},
   "outputs": [],
   "source": [
    "df.machineID = df.machineID.astype('category')"
   ]
  },
  {
   "cell_type": "code",
   "execution_count": 8,
   "metadata": {},
   "outputs": [
    {
     "data": {
      "text/plain": [
       "100    2913\n",
       "37     2913\n",
       "27     2913\n",
       "28     2913\n",
       "29     2913\n",
       "30     2913\n",
       "31     2913\n",
       "32     2913\n",
       "33     2913\n",
       "34     2913\n",
       "35     2913\n",
       "36     2913\n",
       "38     2913\n",
       "99     2913\n",
       "39     2913\n",
       "40     2913\n",
       "41     2913\n",
       "42     2913\n",
       "43     2913\n",
       "44     2913\n",
       "45     2913\n",
       "46     2913\n",
       "47     2913\n",
       "48     2913\n",
       "26     2913\n",
       "25     2913\n",
       "24     2913\n",
       "23     2913\n",
       "2      2913\n",
       "3      2913\n",
       "       ... \n",
       "95     2913\n",
       "96     2913\n",
       "97     2913\n",
       "98     2913\n",
       "77     2913\n",
       "75     2913\n",
       "52     2913\n",
       "74     2913\n",
       "53     2913\n",
       "54     2913\n",
       "55     2913\n",
       "56     2913\n",
       "57     2913\n",
       "58     2913\n",
       "59     2913\n",
       "60     2913\n",
       "61     2913\n",
       "62     2913\n",
       "63     2913\n",
       "64     2913\n",
       "65     2913\n",
       "66     2913\n",
       "67     2913\n",
       "68     2913\n",
       "69     2913\n",
       "70     2913\n",
       "71     2913\n",
       "72     2913\n",
       "73     2913\n",
       "1      2913\n",
       "Name: machineID, Length: 100, dtype: int64"
      ]
     },
     "execution_count": 8,
     "metadata": {},
     "output_type": "execute_result"
    }
   ],
   "source": [
    "df.machineID.value_counts()"
   ]
  },
  {
   "cell_type": "code",
   "execution_count": 9,
   "metadata": {},
   "outputs": [],
   "source": [
    "df.model = df.model.astype('category')"
   ]
  },
  {
   "cell_type": "code",
   "execution_count": 10,
   "metadata": {},
   "outputs": [
    {
     "data": {
      "text/plain": [
       "model3    101955\n",
       "model4     93216\n",
       "model2     49521\n",
       "model1     46608\n",
       "Name: model, dtype: int64"
      ]
     },
     "execution_count": 10,
     "metadata": {},
     "output_type": "execute_result"
    }
   ],
   "source": [
    "df.model.value_counts()"
   ]
  },
  {
   "cell_type": "code",
   "execution_count": 11,
   "metadata": {},
   "outputs": [],
   "source": [
    "def coltype(data):\n",
    "    numerics = ['int16', 'int32', 'int64', 'float16', 'float32', 'float64']\n",
    "    numeric = list(data.select_dtypes(include=numerics).columns)\n",
    "    non_numeric =['bool','category']\n",
    "    categorical = list(data.select_dtypes(include=non_numeric).columns)\n",
    "    return (numeric, categorical)"
   ]
  },
  {
   "cell_type": "code",
   "execution_count": 12,
   "metadata": {},
   "outputs": [],
   "source": [
    "df_numeric,df_categorical = coltype(df)"
   ]
  },
  {
   "cell_type": "code",
   "execution_count": 13,
   "metadata": {},
   "outputs": [
    {
     "data": {
      "text/plain": [
       "['voltmean',\n",
       " 'rotatemean',\n",
       " 'pressuremean',\n",
       " 'vibrationmean',\n",
       " 'voltsd',\n",
       " 'rotatesd',\n",
       " 'pressuresd',\n",
       " 'vibrationsd',\n",
       " 'error1count',\n",
       " 'error2count',\n",
       " 'error3count',\n",
       " 'error4count',\n",
       " 'error5count',\n",
       " 'age']"
      ]
     },
     "execution_count": 13,
     "metadata": {},
     "output_type": "execute_result"
    }
   ],
   "source": [
    "df_numeric"
   ]
  },
  {
   "cell_type": "code",
   "execution_count": 14,
   "metadata": {},
   "outputs": [
    {
     "data": {
      "text/plain": [
       "['machineID', 'model', 'failure']"
      ]
     },
     "execution_count": 14,
     "metadata": {},
     "output_type": "execute_result"
    }
   ],
   "source": [
    "df_categorical"
   ]
  },
  {
   "cell_type": "markdown",
   "metadata": {},
   "source": [
    "## Data visualization"
   ]
  },
  {
   "cell_type": "markdown",
   "metadata": {},
   "source": [
    "### Histrograms for numeric"
   ]
  },
  {
   "cell_type": "code",
   "execution_count": 15,
   "metadata": {},
   "outputs": [],
   "source": [
    "def hist_plots(data, numeric,col_no):\n",
    "    data_fig = pd.melt(data, value_vars= numeric)\n",
    "    fig = sns.FacetGrid(data_fig, col = \"variable\", col_wrap = col_no,sharex= False, sharey = False)\n",
    "    fig = fig.map(sns.distplot, \"value\", color = 'c')\n",
    "    return fig\n",
    "#col_no : number of columns to display in one row\n",
    "#numeric : name of numeric cols"
   ]
  },
  {
   "cell_type": "code",
   "execution_count": 16,
   "metadata": {},
   "outputs": [
    {
     "data": {
      "text/plain": [
       "<seaborn.axisgrid.FacetGrid at 0x21eb5812da0>"
      ]
     },
     "execution_count": 16,
     "metadata": {},
     "output_type": "execute_result"
    },
    {
     "data": {
      "image/png": "[encoded data removed]",
      "text/plain": [
       "<Figure size 432x1512 with 14 Axes>"
      ]
     },
     "metadata": {
      "needs_background": "light"
     },
     "output_type": "display_data"
    }
   ],
   "source": [
    "hist_plots(df,df_numeric,2)"
   ]
  }
 ],
 "metadata": {
  "kernelspec": {
   "display_name": "Python 3",
   "language": "python",
   "name": "python3"
  },
  "language_info": {
   "codemirror_mode": {
    "name": "ipython",
    "version": 3
   },
   "file_extension": ".py",
   "mimetype": "text/x-python",
   "name": "python",
   "nbconvert_exporter": "python",
   "pygments_lexer": "ipython3",
   "version": "3.7.3"
  }
 },
 "nbformat": 4,
 "nbformat_minor": 2
}
