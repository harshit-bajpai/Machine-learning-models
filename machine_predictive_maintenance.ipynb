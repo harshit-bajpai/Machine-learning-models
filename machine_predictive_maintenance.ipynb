{
 "cells": [
  {
   "cell_type": "markdown",
   "metadata": {},
   "source": [
    "# Predictive Maintenance of machines"
   ]
  },
  {
   "cell_type": "markdown",
   "metadata": {},
   "source": [
    "## Data Information"
   ]
  },
  {
   "cell_type": "markdown",
   "metadata": {},
   "source": [
    "### Source"
   ]
  },
  {
   "cell_type": "markdown",
   "metadata": {},
   "source": [
    "The notebook is based on a predictive maintenance use case from the energy industry. The data is downloaded from Microsoft Azure [MLWorkshop](https://github.com/microsoft/AMLWorkshop) <br>\n",
    "The input data are simulated (and simplified) telemetry and machine log readings from a hydropower turbine.The goal is to create an interpretable classification model that can predict the turbine failure. Specifically, whether the turbine will experience a component failure in the 24 hours following the given telemetry and error reading."
   ]
  },
  {
   "cell_type": "markdown",
   "metadata": {},
   "source": [
    "### Data files"
   ]
  },
  {
   "cell_type": "markdown",
   "metadata": {},
   "source": [
    "The data comes from 4 different sources which are:\n",
    "    \n",
    "- real-time telemetry data collected from machines \n",
    "- error messages\n",
    "- failure history\n",
    "- machine information such as type and age"
   ]
  },
  {
   "cell_type": "markdown",
   "metadata": {},
   "source": [
    "## Notebook setup"
   ]
  },
  {
   "cell_type": "code",
   "execution_count": 1,
   "metadata": {},
   "outputs": [],
   "source": [
    "#Common imports\n",
    "import sys\n",
    "import os\n",
    "import numpy as np\n",
    "\n",
    "#Python Data Analysis Library\n",
    "import pandas as pd\n",
    "\n",
    "#Data visualization\n",
    "%matplotlib inline \n",
    "#sets the backend of matplotlib to the 'inline' backend\n",
    "#%matplotlib notebook\n",
    "import matplotlib\n",
    "import seaborn as sns\n",
    "import matplotlib.pyplot as plt\n",
    "\n",
    "# Ignore useless warnings (see SciPy issue #5998)\n",
    "import warnings\n",
    "warnings.filterwarnings(action=\"ignore\", message=\"^internal gelsd\")\n",
    "\n",
    "#Data pretty printer\n",
    "from pprint import pprint"
   ]
  },
  {
   "cell_type": "markdown",
   "metadata": {},
   "source": [
    "## Data import and cleaning"
   ]
  },
  {
   "cell_type": "markdown",
   "metadata": {},
   "source": [
    "### Telemetry data"
   ]
  },
  {
   "cell_type": "markdown",
   "metadata": {},
   "source": [
    "#### Data import"
   ]
  },
  {
   "cell_type": "code",
   "execution_count": 2,
   "metadata": {},
   "outputs": [],
   "source": [
    "telemetry = pd.read_csv('datasets/machine_predictive_maintenance/telemetry.csv')"
   ]
  },
  {
   "cell_type": "markdown",
   "metadata": {},
   "source": [
    "#### Data discovery"
   ]
  },
  {
   "cell_type": "code",
   "execution_count": 3,
   "metadata": {},
   "outputs": [
    {
     "data": {
      "text/html": [
       "<div>\n",
       "<style scoped>\n",
       "    .dataframe tbody tr th:only-of-type {\n",
       "        vertical-align: middle;\n",
       "    }\n",
       "\n",
       "    .dataframe tbody tr th {\n",
       "        vertical-align: top;\n",
       "    }\n",
       "\n",
       "    .dataframe thead th {\n",
       "        text-align: right;\n",
       "    }\n",
       "</style>\n",
       "<table border=\"1\" class=\"dataframe\">\n",
       "  <thead>\n",
       "    <tr style=\"text-align: right;\">\n",
       "      <th></th>\n",
       "      <th>datetime</th>\n",
       "      <th>machineID</th>\n",
       "      <th>volt</th>\n",
       "      <th>rotate</th>\n",
       "      <th>pressure</th>\n",
       "      <th>vibration</th>\n",
       "    </tr>\n",
       "  </thead>\n",
       "  <tbody>\n",
       "    <tr>\n",
       "      <th>0</th>\n",
       "      <td>1/1/2015 6:00:00 AM</td>\n",
       "      <td>1</td>\n",
       "      <td>176.217853</td>\n",
       "      <td>418.504078</td>\n",
       "      <td>113.077935</td>\n",
       "      <td>45.087686</td>\n",
       "    </tr>\n",
       "    <tr>\n",
       "      <th>1</th>\n",
       "      <td>1/1/2015 7:00:00 AM</td>\n",
       "      <td>1</td>\n",
       "      <td>162.879223</td>\n",
       "      <td>402.747490</td>\n",
       "      <td>95.460525</td>\n",
       "      <td>43.413973</td>\n",
       "    </tr>\n",
       "    <tr>\n",
       "      <th>2</th>\n",
       "      <td>1/1/2015 8:00:00 AM</td>\n",
       "      <td>1</td>\n",
       "      <td>170.989902</td>\n",
       "      <td>527.349825</td>\n",
       "      <td>75.237905</td>\n",
       "      <td>34.178847</td>\n",
       "    </tr>\n",
       "    <tr>\n",
       "      <th>3</th>\n",
       "      <td>1/1/2015 9:00:00 AM</td>\n",
       "      <td>1</td>\n",
       "      <td>162.462833</td>\n",
       "      <td>346.149335</td>\n",
       "      <td>109.248561</td>\n",
       "      <td>41.122144</td>\n",
       "    </tr>\n",
       "    <tr>\n",
       "      <th>4</th>\n",
       "      <td>1/1/2015 10:00:00 AM</td>\n",
       "      <td>1</td>\n",
       "      <td>157.610021</td>\n",
       "      <td>435.376873</td>\n",
       "      <td>111.886648</td>\n",
       "      <td>25.990511</td>\n",
       "    </tr>\n",
       "  </tbody>\n",
       "</table>\n",
       "</div>"
      ],
      "text/plain": [
       "               datetime  machineID        volt      rotate    pressure  \\\n",
       "0   1/1/2015 6:00:00 AM          1  176.217853  418.504078  113.077935   \n",
       "1   1/1/2015 7:00:00 AM          1  162.879223  402.747490   95.460525   \n",
       "2   1/1/2015 8:00:00 AM          1  170.989902  527.349825   75.237905   \n",
       "3   1/1/2015 9:00:00 AM          1  162.462833  346.149335  109.248561   \n",
       "4  1/1/2015 10:00:00 AM          1  157.610021  435.376873  111.886648   \n",
       "\n",
       "   vibration  \n",
       "0  45.087686  \n",
       "1  43.413973  \n",
       "2  34.178847  \n",
       "3  41.122144  \n",
       "4  25.990511  "
      ]
     },
     "execution_count": 3,
     "metadata": {},
     "output_type": "execute_result"
    }
   ],
   "source": [
    "telemetry.head()"
   ]
  },
  {
   "cell_type": "code",
   "execution_count": 4,
   "metadata": {
    "scrolled": true
   },
   "outputs": [
    {
     "name": "stdout",
     "output_type": "stream",
     "text": [
      "<class 'pandas.core.frame.DataFrame'>\n",
      "RangeIndex: 876100 entries, 0 to 876099\n",
      "Data columns (total 6 columns):\n",
      "datetime     876100 non-null object\n",
      "machineID    876100 non-null int64\n",
      "volt         876100 non-null float64\n",
      "rotate       876100 non-null float64\n",
      "pressure     876100 non-null float64\n",
      "vibration    876100 non-null float64\n",
      "dtypes: float64(4), int64(1), object(1)\n",
      "memory usage: 40.1+ MB\n"
     ]
    }
   ],
   "source": [
    "telemetry.info()"
   ]
  },
  {
   "cell_type": "code",
   "execution_count": 5,
   "metadata": {},
   "outputs": [],
   "source": [
    "telemetry.datetime = pd.to_datetime(telemetry.datetime, format = (\"%m/%d/%Y %I:%M:%S %p\"))"
   ]
  },
  {
   "cell_type": "code",
   "execution_count": 6,
   "metadata": {},
   "outputs": [],
   "source": [
    "telemetry.machineID = telemetry.machineID.astype('category')"
   ]
  },
  {
   "cell_type": "code",
   "execution_count": 7,
   "metadata": {},
   "outputs": [
    {
     "data": {
      "text/plain": [
       "100    8761\n",
       "37     8761\n",
       "27     8761\n",
       "28     8761\n",
       "29     8761\n",
       "30     8761\n",
       "31     8761\n",
       "32     8761\n",
       "33     8761\n",
       "34     8761\n",
       "35     8761\n",
       "36     8761\n",
       "38     8761\n",
       "99     8761\n",
       "39     8761\n",
       "40     8761\n",
       "41     8761\n",
       "42     8761\n",
       "43     8761\n",
       "44     8761\n",
       "45     8761\n",
       "46     8761\n",
       "47     8761\n",
       "48     8761\n",
       "26     8761\n",
       "25     8761\n",
       "24     8761\n",
       "23     8761\n",
       "2      8761\n",
       "3      8761\n",
       "       ... \n",
       "95     8761\n",
       "96     8761\n",
       "97     8761\n",
       "98     8761\n",
       "77     8761\n",
       "75     8761\n",
       "52     8761\n",
       "74     8761\n",
       "53     8761\n",
       "54     8761\n",
       "55     8761\n",
       "56     8761\n",
       "57     8761\n",
       "58     8761\n",
       "59     8761\n",
       "60     8761\n",
       "61     8761\n",
       "62     8761\n",
       "63     8761\n",
       "64     8761\n",
       "65     8761\n",
       "66     8761\n",
       "67     8761\n",
       "68     8761\n",
       "69     8761\n",
       "70     8761\n",
       "71     8761\n",
       "72     8761\n",
       "73     8761\n",
       "1      8761\n",
       "Name: machineID, Length: 100, dtype: int64"
      ]
     },
     "execution_count": 7,
     "metadata": {},
     "output_type": "execute_result"
    }
   ],
   "source": [
    "telemetry.machineID.value_counts()"
   ]
  },
  {
   "cell_type": "markdown",
   "metadata": {},
   "source": [
    "We have 100 different machines and they all have 8761 observations each."
   ]
  },
  {
   "cell_type": "markdown",
   "metadata": {},
   "source": [
    "Time series start and end"
   ]
  },
  {
   "cell_type": "code",
   "execution_count": 8,
   "metadata": {},
   "outputs": [
    {
     "data": {
      "text/plain": [
       "Timestamp('2015-01-01 06:00:00')"
      ]
     },
     "execution_count": 8,
     "metadata": {},
     "output_type": "execute_result"
    }
   ],
   "source": [
    "telemetry.sort_values(by='datetime').iloc[0,0]"
   ]
  },
  {
   "cell_type": "code",
   "execution_count": 9,
   "metadata": {},
   "outputs": [
    {
     "data": {
      "text/plain": [
       "Timestamp('2016-01-01 06:00:00')"
      ]
     },
     "execution_count": 9,
     "metadata": {},
     "output_type": "execute_result"
    }
   ],
   "source": [
    "nrow = len(telemetry)-1\n",
    "telemetry.sort_values(by='datetime').iloc[nrow,0]"
   ]
  },
  {
   "cell_type": "markdown",
   "metadata": {},
   "source": [
    "We can see that we have time series of the data as 1 year with hourly aggregates data. Technically this would have total observations as:"
   ]
  },
  {
   "cell_type": "code",
   "execution_count": 10,
   "metadata": {},
   "outputs": [
    {
     "name": "stdout",
     "output_type": "stream",
     "text": [
      "8760\n"
     ]
    }
   ],
   "source": [
    "print(365*24)"
   ]
  },
  {
   "cell_type": "markdown",
   "metadata": {},
   "source": [
    "As we have 8761 observations, it aligns with the timelines perfectly and we have complete cycle data."
   ]
  },
  {
   "cell_type": "markdown",
   "metadata": {},
   "source": [
    "#### Descriptive statistics"
   ]
  },
  {
   "cell_type": "code",
   "execution_count": 11,
   "metadata": {},
   "outputs": [
    {
     "data": {
      "text/html": [
       "<div>\n",
       "<style scoped>\n",
       "    .dataframe tbody tr th:only-of-type {\n",
       "        vertical-align: middle;\n",
       "    }\n",
       "\n",
       "    .dataframe tbody tr th {\n",
       "        vertical-align: top;\n",
       "    }\n",
       "\n",
       "    .dataframe thead th {\n",
       "        text-align: right;\n",
       "    }\n",
       "</style>\n",
       "<table border=\"1\" class=\"dataframe\">\n",
       "  <thead>\n",
       "    <tr style=\"text-align: right;\">\n",
       "      <th></th>\n",
       "      <th>volt</th>\n",
       "      <th>rotate</th>\n",
       "      <th>pressure</th>\n",
       "      <th>vibration</th>\n",
       "    </tr>\n",
       "  </thead>\n",
       "  <tbody>\n",
       "    <tr>\n",
       "      <th>count</th>\n",
       "      <td>876100.000000</td>\n",
       "      <td>876100.000000</td>\n",
       "      <td>876100.000000</td>\n",
       "      <td>876100.000000</td>\n",
       "    </tr>\n",
       "    <tr>\n",
       "      <th>mean</th>\n",
       "      <td>170.777736</td>\n",
       "      <td>446.605119</td>\n",
       "      <td>100.858668</td>\n",
       "      <td>40.385007</td>\n",
       "    </tr>\n",
       "    <tr>\n",
       "      <th>std</th>\n",
       "      <td>15.509114</td>\n",
       "      <td>52.673886</td>\n",
       "      <td>11.048679</td>\n",
       "      <td>5.370361</td>\n",
       "    </tr>\n",
       "    <tr>\n",
       "      <th>min</th>\n",
       "      <td>97.333604</td>\n",
       "      <td>138.432075</td>\n",
       "      <td>51.237106</td>\n",
       "      <td>14.877054</td>\n",
       "    </tr>\n",
       "    <tr>\n",
       "      <th>25%</th>\n",
       "      <td>160.304927</td>\n",
       "      <td>412.305714</td>\n",
       "      <td>93.498181</td>\n",
       "      <td>36.777299</td>\n",
       "    </tr>\n",
       "    <tr>\n",
       "      <th>50%</th>\n",
       "      <td>170.607338</td>\n",
       "      <td>447.558150</td>\n",
       "      <td>100.425559</td>\n",
       "      <td>40.237247</td>\n",
       "    </tr>\n",
       "    <tr>\n",
       "      <th>75%</th>\n",
       "      <td>181.004493</td>\n",
       "      <td>482.176600</td>\n",
       "      <td>107.555231</td>\n",
       "      <td>43.784938</td>\n",
       "    </tr>\n",
       "    <tr>\n",
       "      <th>max</th>\n",
       "      <td>255.124717</td>\n",
       "      <td>695.020984</td>\n",
       "      <td>185.951998</td>\n",
       "      <td>76.791072</td>\n",
       "    </tr>\n",
       "  </tbody>\n",
       "</table>\n",
       "</div>"
      ],
      "text/plain": [
       "                volt         rotate       pressure      vibration\n",
       "count  876100.000000  876100.000000  876100.000000  876100.000000\n",
       "mean      170.777736     446.605119     100.858668      40.385007\n",
       "std        15.509114      52.673886      11.048679       5.370361\n",
       "min        97.333604     138.432075      51.237106      14.877054\n",
       "25%       160.304927     412.305714      93.498181      36.777299\n",
       "50%       170.607338     447.558150     100.425559      40.237247\n",
       "75%       181.004493     482.176600     107.555231      43.784938\n",
       "max       255.124717     695.020984     185.951998      76.791072"
      ]
     },
     "execution_count": 11,
     "metadata": {},
     "output_type": "execute_result"
    }
   ],
   "source": [
    "telemetry.describe()"
   ]
  },
  {
   "cell_type": "markdown",
   "metadata": {},
   "source": [
    "#### Data Visualization "
   ]
  },
  {
   "cell_type": "markdown",
   "metadata": {},
   "source": [
    "We will try to visualize data for 2 different machines and assume rest of them are operating in a similar trend."
   ]
  },
  {
   "cell_type": "markdown",
   "metadata": {},
   "source": [
    "##### Time series plots"
   ]
  },
  {
   "cell_type": "code",
   "execution_count": 12,
   "metadata": {},
   "outputs": [],
   "source": [
    "def individual_timeseries_plot(data,col_name,date_col):\n",
    "    import matplotlib.dates as mdates\n",
    "    tick_unit = mdates.MonthLocator()  # every day\n",
    "    tick_fmt = mdates.DateFormatter('%m')\n",
    "    from pandas.plotting import register_matplotlib_converters\n",
    "    register_matplotlib_converters()\n",
    "    fig, ax = plt.subplots()\n",
    "    fig = sns.lineplot(x = date_col, y = col_name, data = data)\n",
    "    ax.xaxis.set_major_locator(tick_unit)\n",
    "    ax.xaxis.set_major_formatter(tick_fmt)"
   ]
  },
  {
   "cell_type": "code",
   "execution_count": 13,
   "metadata": {},
   "outputs": [],
   "source": [
    "def multiple_plots_ts(data,df_numeric,date_col):\n",
    "    n = len(df_numeric)\n",
    "    for i in range(1,n+1):\n",
    "        col_name = df_numeric[i-1]\n",
    "        individual_timeseries_plot(data,col_name,date_col)\n",
    "    return  "
   ]
  },
  {
   "cell_type": "markdown",
   "metadata": {},
   "source": [
    "**Machine ID = 1**"
   ]
  },
  {
   "cell_type": "code",
   "execution_count": 14,
   "metadata": {},
   "outputs": [
    {
     "data": {
      "image/png": "[encoded data removed]",
      "text/plain": [
       "<Figure size 432x288 with 1 Axes>"
      ]
     },
     "metadata": {
      "needs_background": "light"
     },
     "output_type": "display_data"
    },
    {
     "data": {
      "image/png": "[encoded data removed]",
      "text/plain": [
       "<Figure size 432x288 with 1 Axes>"
      ]
     },
     "metadata": {
      "needs_background": "light"
     },
     "output_type": "display_data"
    },
    {
     "data": {
      "image/png": "[encoded data removed]",
      "text/plain": [
       "<Figure size 432x288 with 1 Axes>"
      ]
     },
     "metadata": {
      "needs_background": "light"
     },
     "output_type": "display_data"
    },
    {
     "data": {
      "image/png": "[encoded data removed]",
      "text/plain": [
       "<Figure size 432x288 with 1 Axes>"
      ]
     },
     "metadata": {
      "needs_background": "light"
     },
     "output_type": "display_data"
    }
   ],
   "source": [
    "multiple_plots_ts(telemetry[telemetry.machineID == 1],\n",
    "                  ['volt', 'rotate', 'pressure', 'vibration'],\n",
    "                  'datetime')"
   ]
  },
  {
   "cell_type": "markdown",
   "metadata": {},
   "source": [
    "**Machine ID = 2**"
   ]
  },
  {
   "cell_type": "code",
   "execution_count": 15,
   "metadata": {},
   "outputs": [
    {
     "data": {
      "image/png": "[encoded data removed]",
      "text/plain": [
       "<Figure size 432x288 with 1 Axes>"
      ]
     },
     "metadata": {
      "needs_background": "light"
     },
     "output_type": "display_data"
    },
    {
     "data": {
      "image/png": "[encoded data removed]",
      "text/plain": [
       "<Figure size 432x288 with 1 Axes>"
      ]
     },
     "metadata": {
      "needs_background": "light"
     },
     "output_type": "display_data"
    },
    {
     "data": {
      "image/png": "[encoded data removed]",
      "text/plain": [
       "<Figure size 432x288 with 1 Axes>"
      ]
     },
     "metadata": {
      "needs_background": "light"
     },
     "output_type": "display_data"
    },
    {
     "data": {
      "image/png": "[encoded data removed]",
      "text/plain": [
       "<Figure size 432x288 with 1 Axes>"
      ]
     },
     "metadata": {
      "needs_background": "light"
     },
     "output_type": "display_data"
    }
   ],
   "source": [
    "multiple_plots_ts(telemetry[telemetry.machineID == 2],\n",
    "                  ['volt', 'rotate', 'pressure', 'vibration'],\n",
    "                  'datetime')"
   ]
  },
  {
   "cell_type": "markdown",
   "metadata": {},
   "source": [
    "##### Histograms"
   ]
  },
  {
   "cell_type": "code",
   "execution_count": 16,
   "metadata": {},
   "outputs": [],
   "source": [
    "def hist_plots(data, numeric,col_no):\n",
    "    data_fig = pd.melt(data, value_vars= numeric)\n",
    "    fig = sns.FacetGrid(data_fig, col = \"variable\", col_wrap = col_no,sharex= False, sharey = False)\n",
    "    fig = fig.map(sns.distplot, \"value\", color = 'c')\n",
    "    return fig\n",
    "#col_no : number of columns to display in one row\n",
    "#numeric : name of numeric cols"
   ]
  },
  {
   "cell_type": "code",
   "execution_count": 17,
   "metadata": {},
   "outputs": [
    {
     "data": {
      "text/plain": [
       "<seaborn.axisgrid.FacetGrid at 0x175c36eccc0>"
      ]
     },
     "execution_count": 17,
     "metadata": {},
     "output_type": "execute_result"
    },
    {
     "data": {
      "image/png": "[encoded data removed]",
      "text/plain": [
       "<Figure size 432x432 with 4 Axes>"
      ]
     },
     "metadata": {
      "needs_background": "light"
     },
     "output_type": "display_data"
    }
   ],
   "source": [
    "hist_plots(telemetry,\n",
    "          ['volt', 'rotate', 'pressure', 'vibration'],2)"
   ]
  },
  {
   "cell_type": "markdown",
   "metadata": {},
   "source": [
    "Thus, we see a normal distribution of telemetry variables with evident similarities between different machines."
   ]
  },
  {
   "cell_type": "markdown",
   "metadata": {},
   "source": [
    "#### Machines data"
   ]
  },
  {
   "cell_type": "code",
   "execution_count": 18,
   "metadata": {},
   "outputs": [],
   "source": [
    "machines = pd.read_csv('datasets/machine_predictive_maintenance/machines.csv')"
   ]
  },
  {
   "cell_type": "code",
   "execution_count": 19,
   "metadata": {},
   "outputs": [
    {
     "name": "stdout",
     "output_type": "stream",
     "text": [
      "<class 'pandas.core.frame.DataFrame'>\n",
      "RangeIndex: 100 entries, 0 to 99\n",
      "Data columns (total 3 columns):\n",
      "machineID    100 non-null int64\n",
      "model        100 non-null object\n",
      "age          100 non-null int64\n",
      "dtypes: int64(2), object(1)\n",
      "memory usage: 2.4+ KB\n"
     ]
    }
   ],
   "source": [
    "machines.info()"
   ]
  },
  {
   "cell_type": "code",
   "execution_count": 20,
   "metadata": {},
   "outputs": [
    {
     "data": {
      "text/html": [
       "<div>\n",
       "<style scoped>\n",
       "    .dataframe tbody tr th:only-of-type {\n",
       "        vertical-align: middle;\n",
       "    }\n",
       "\n",
       "    .dataframe tbody tr th {\n",
       "        vertical-align: top;\n",
       "    }\n",
       "\n",
       "    .dataframe thead th {\n",
       "        text-align: right;\n",
       "    }\n",
       "</style>\n",
       "<table border=\"1\" class=\"dataframe\">\n",
       "  <thead>\n",
       "    <tr style=\"text-align: right;\">\n",
       "      <th></th>\n",
       "      <th>machineID</th>\n",
       "      <th>model</th>\n",
       "      <th>age</th>\n",
       "    </tr>\n",
       "  </thead>\n",
       "  <tbody>\n",
       "    <tr>\n",
       "      <th>0</th>\n",
       "      <td>1</td>\n",
       "      <td>model3</td>\n",
       "      <td>18</td>\n",
       "    </tr>\n",
       "    <tr>\n",
       "      <th>1</th>\n",
       "      <td>2</td>\n",
       "      <td>model4</td>\n",
       "      <td>7</td>\n",
       "    </tr>\n",
       "    <tr>\n",
       "      <th>2</th>\n",
       "      <td>3</td>\n",
       "      <td>model3</td>\n",
       "      <td>8</td>\n",
       "    </tr>\n",
       "    <tr>\n",
       "      <th>3</th>\n",
       "      <td>4</td>\n",
       "      <td>model3</td>\n",
       "      <td>7</td>\n",
       "    </tr>\n",
       "    <tr>\n",
       "      <th>4</th>\n",
       "      <td>5</td>\n",
       "      <td>model3</td>\n",
       "      <td>2</td>\n",
       "    </tr>\n",
       "  </tbody>\n",
       "</table>\n",
       "</div>"
      ],
      "text/plain": [
       "   machineID   model  age\n",
       "0          1  model3   18\n",
       "1          2  model4    7\n",
       "2          3  model3    8\n",
       "3          4  model3    7\n",
       "4          5  model3    2"
      ]
     },
     "execution_count": 20,
     "metadata": {},
     "output_type": "execute_result"
    }
   ],
   "source": [
    "machines.head()"
   ]
  },
  {
   "cell_type": "code",
   "execution_count": 21,
   "metadata": {},
   "outputs": [],
   "source": [
    "machines.machineID = machines.machineID.astype('category')\n",
    "machines.model = machines.model.astype('category')"
   ]
  },
  {
   "cell_type": "code",
   "execution_count": 22,
   "metadata": {},
   "outputs": [
    {
     "data": {
      "text/plain": [
       "model3    35\n",
       "model4    32\n",
       "model2    17\n",
       "model1    16\n",
       "Name: model, dtype: int64"
      ]
     },
     "execution_count": 22,
     "metadata": {},
     "output_type": "execute_result"
    }
   ],
   "source": [
    "machines.model.value_counts()"
   ]
  },
  {
   "cell_type": "markdown",
   "metadata": {},
   "source": [
    "This file has meta data relating to the machines."
   ]
  },
  {
   "cell_type": "markdown",
   "metadata": {},
   "source": [
    "#### Errors data"
   ]
  },
  {
   "cell_type": "code",
   "execution_count": 23,
   "metadata": {},
   "outputs": [],
   "source": [
    "errors = pd.read_csv('datasets/machine_predictive_maintenance/errors.csv')"
   ]
  },
  {
   "cell_type": "code",
   "execution_count": 24,
   "metadata": {},
   "outputs": [
    {
     "name": "stdout",
     "output_type": "stream",
     "text": [
      "<class 'pandas.core.frame.DataFrame'>\n",
      "RangeIndex: 3919 entries, 0 to 3918\n",
      "Data columns (total 3 columns):\n",
      "datetime     3919 non-null object\n",
      "machineID    3919 non-null int64\n",
      "errorID      3919 non-null object\n",
      "dtypes: int64(1), object(2)\n",
      "memory usage: 91.9+ KB\n"
     ]
    }
   ],
   "source": [
    "errors.info()"
   ]
  },
  {
   "cell_type": "code",
   "execution_count": 25,
   "metadata": {},
   "outputs": [
    {
     "data": {
      "text/html": [
       "<div>\n",
       "<style scoped>\n",
       "    .dataframe tbody tr th:only-of-type {\n",
       "        vertical-align: middle;\n",
       "    }\n",
       "\n",
       "    .dataframe tbody tr th {\n",
       "        vertical-align: top;\n",
       "    }\n",
       "\n",
       "    .dataframe thead th {\n",
       "        text-align: right;\n",
       "    }\n",
       "</style>\n",
       "<table border=\"1\" class=\"dataframe\">\n",
       "  <thead>\n",
       "    <tr style=\"text-align: right;\">\n",
       "      <th></th>\n",
       "      <th>datetime</th>\n",
       "      <th>machineID</th>\n",
       "      <th>errorID</th>\n",
       "    </tr>\n",
       "  </thead>\n",
       "  <tbody>\n",
       "    <tr>\n",
       "      <th>0</th>\n",
       "      <td>1/3/2015 7:00:00 AM</td>\n",
       "      <td>1</td>\n",
       "      <td>error1</td>\n",
       "    </tr>\n",
       "    <tr>\n",
       "      <th>1</th>\n",
       "      <td>1/3/2015 8:00:00 PM</td>\n",
       "      <td>1</td>\n",
       "      <td>error3</td>\n",
       "    </tr>\n",
       "    <tr>\n",
       "      <th>2</th>\n",
       "      <td>1/4/2015 6:00:00 AM</td>\n",
       "      <td>1</td>\n",
       "      <td>error5</td>\n",
       "    </tr>\n",
       "    <tr>\n",
       "      <th>3</th>\n",
       "      <td>1/10/2015 3:00:00 PM</td>\n",
       "      <td>1</td>\n",
       "      <td>error4</td>\n",
       "    </tr>\n",
       "    <tr>\n",
       "      <th>4</th>\n",
       "      <td>1/22/2015 10:00:00 AM</td>\n",
       "      <td>1</td>\n",
       "      <td>error4</td>\n",
       "    </tr>\n",
       "  </tbody>\n",
       "</table>\n",
       "</div>"
      ],
      "text/plain": [
       "                datetime  machineID errorID\n",
       "0    1/3/2015 7:00:00 AM          1  error1\n",
       "1    1/3/2015 8:00:00 PM          1  error3\n",
       "2    1/4/2015 6:00:00 AM          1  error5\n",
       "3   1/10/2015 3:00:00 PM          1  error4\n",
       "4  1/22/2015 10:00:00 AM          1  error4"
      ]
     },
     "execution_count": 25,
     "metadata": {},
     "output_type": "execute_result"
    }
   ],
   "source": [
    "errors.head()"
   ]
  },
  {
   "cell_type": "code",
   "execution_count": 26,
   "metadata": {},
   "outputs": [],
   "source": [
    "errors.datetime = pd.to_datetime(errors.datetime, format = (\"%m/%d/%Y %I:%M:%S %p\"))"
   ]
  },
  {
   "cell_type": "code",
   "execution_count": 27,
   "metadata": {},
   "outputs": [],
   "source": [
    "errors.machineID = errors.machineID.astype('category')\n",
    "errors.errorID = errors.errorID.astype('category')"
   ]
  },
  {
   "cell_type": "code",
   "execution_count": 28,
   "metadata": {},
   "outputs": [
    {
     "data": {
      "text/plain": [
       "error1    1010\n",
       "error2     988\n",
       "error3     838\n",
       "error4     727\n",
       "error5     356\n",
       "Name: errorID, dtype: int64"
      ]
     },
     "execution_count": 28,
     "metadata": {},
     "output_type": "execute_result"
    }
   ],
   "source": [
    "errors.errorID.value_counts()"
   ]
  },
  {
   "cell_type": "markdown",
   "metadata": {},
   "source": [
    "This dataset as errors with date time and machine ID. These are non-breaking errors thrown while the machine is still operational and do not constitute as failures. The error date and times are rounded to the closest hour since the telemetry data is collected at an hourly rate."
   ]
  },
  {
   "cell_type": "markdown",
   "metadata": {},
   "source": [
    "#### Failures data"
   ]
  },
  {
   "cell_type": "code",
   "execution_count": 29,
   "metadata": {},
   "outputs": [],
   "source": [
    "failures = pd.read_csv('datasets/machine_predictive_maintenance/failures.csv')"
   ]
  },
  {
   "cell_type": "code",
   "execution_count": 30,
   "metadata": {},
   "outputs": [
    {
     "name": "stdout",
     "output_type": "stream",
     "text": [
      "<class 'pandas.core.frame.DataFrame'>\n",
      "RangeIndex: 719 entries, 0 to 718\n",
      "Data columns (total 2 columns):\n",
      "datetime     719 non-null object\n",
      "machineID    719 non-null int64\n",
      "dtypes: int64(1), object(1)\n",
      "memory usage: 11.3+ KB\n"
     ]
    }
   ],
   "source": [
    "failures.info()"
   ]
  },
  {
   "cell_type": "code",
   "execution_count": 31,
   "metadata": {},
   "outputs": [
    {
     "data": {
      "text/html": [
       "<div>\n",
       "<style scoped>\n",
       "    .dataframe tbody tr th:only-of-type {\n",
       "        vertical-align: middle;\n",
       "    }\n",
       "\n",
       "    .dataframe tbody tr th {\n",
       "        vertical-align: top;\n",
       "    }\n",
       "\n",
       "    .dataframe thead th {\n",
       "        text-align: right;\n",
       "    }\n",
       "</style>\n",
       "<table border=\"1\" class=\"dataframe\">\n",
       "  <thead>\n",
       "    <tr style=\"text-align: right;\">\n",
       "      <th></th>\n",
       "      <th>datetime</th>\n",
       "      <th>machineID</th>\n",
       "    </tr>\n",
       "  </thead>\n",
       "  <tbody>\n",
       "    <tr>\n",
       "      <th>0</th>\n",
       "      <td>1/5/2015 6:00:00 AM</td>\n",
       "      <td>1</td>\n",
       "    </tr>\n",
       "    <tr>\n",
       "      <th>1</th>\n",
       "      <td>3/6/2015 6:00:00 AM</td>\n",
       "      <td>1</td>\n",
       "    </tr>\n",
       "    <tr>\n",
       "      <th>2</th>\n",
       "      <td>4/20/2015 6:00:00 AM</td>\n",
       "      <td>1</td>\n",
       "    </tr>\n",
       "    <tr>\n",
       "      <th>3</th>\n",
       "      <td>6/19/2015 6:00:00 AM</td>\n",
       "      <td>1</td>\n",
       "    </tr>\n",
       "    <tr>\n",
       "      <th>4</th>\n",
       "      <td>9/2/2015 6:00:00 AM</td>\n",
       "      <td>1</td>\n",
       "    </tr>\n",
       "  </tbody>\n",
       "</table>\n",
       "</div>"
      ],
      "text/plain": [
       "               datetime  machineID\n",
       "0   1/5/2015 6:00:00 AM          1\n",
       "1   3/6/2015 6:00:00 AM          1\n",
       "2  4/20/2015 6:00:00 AM          1\n",
       "3  6/19/2015 6:00:00 AM          1\n",
       "4   9/2/2015 6:00:00 AM          1"
      ]
     },
     "execution_count": 31,
     "metadata": {},
     "output_type": "execute_result"
    }
   ],
   "source": [
    "failures.head()"
   ]
  },
  {
   "cell_type": "code",
   "execution_count": 32,
   "metadata": {},
   "outputs": [],
   "source": [
    "failures.datetime = pd.to_datetime(failures.datetime, format = (\"%m/%d/%Y %I:%M:%S %p\"))"
   ]
  },
  {
   "cell_type": "code",
   "execution_count": 33,
   "metadata": {},
   "outputs": [],
   "source": [
    "failures.machineID = failures.machineID.astype('category')"
   ]
  },
  {
   "cell_type": "code",
   "execution_count": 34,
   "metadata": {
    "scrolled": true
   },
   "outputs": [
    {
     "data": {
      "text/plain": [
       "Text(0.5, 1.01, 'Failures per machine ID')"
      ]
     },
     "execution_count": 34,
     "metadata": {},
     "output_type": "execute_result"
    },
    {
     "data": {
      "image/png": "[encoded data removed]",
      "text/plain": [
       "<Figure size 1296x432 with 1 Axes>"
      ]
     },
     "metadata": {
      "needs_background": "light"
     },
     "output_type": "display_data"
    }
   ],
   "source": [
    "fig, (ax) = plt.subplots(1, 1, figsize=(18, 6))\n",
    "\n",
    "sns.barplot(x = np.array(failures.machineID.value_counts().index),\n",
    "            y = np.array(failures.machineID.value_counts()),\n",
    "           palette=\"colorblind\")\n",
    "\n",
    "plt.xticks(rotation='vertical')\n",
    "\n",
    "plt.suptitle('Failures per machine ID',\n",
    "            y = 1.01,\n",
    "            fontsize = 28,\n",
    "            fontweight = 'bold')"
   ]
  },
  {
   "cell_type": "markdown",
   "metadata": {},
   "source": [
    "## Feature engineering"
   ]
  },
  {
   "cell_type": "markdown",
   "metadata": {},
   "source": [
    "Telemetry data almost always comes with time-stamps which makes it suitable for calculating lagging features. A common method is to pick a window size for the lag features to be created and compute rolling aggregate measures such as mean, standard deviation, minimum, maximum, etc. to represent the short term history of the telemetry over the lag window. In this notebook, we want to calculate rolling mean and standard deviation of the telemetry data over the last 24 hour lag window, calculated for every 3 hours.\n",
    "\n",
    "Similar to telemetry, errors also come with time-stamps. However, unlike telemetry that had numerical values, errors have categorical values denoting the type of error that occured at a time-stamp. In this case, aggregating methods such as averaging does not apply. Counting the different categories is a more viable approach where lagging counts of different types of errors that occured in the lag window are calculated. \n",
    "\n",
    "The machine features are used directly as they hold descriptive information about the type of the machines and their ages which is the years in service.\n",
    "\n",
    "When using classification for predicting failure due to a problem, labeling is done by taking a time window prior to the failure of an asset and labeling the feature records that fall into that window as about to fail due to a problem while labeling all other records as normal. This time window should be picked according to the business case where in some situations it may be enough to predict failures hours in advance while in others days or weeks maybe needed to allow for the arrival of parts to be replaced as an example.\n",
    "\n",
    "The prediction problem for this example scenerio is to estimate the probability that a machine will fail in the near future due to a failure of a certain component. More specifically, the goal is to compute the probability that a machine will fail in the next 24 hours due to a component failure. \n",
    "\n",
    "Labelling is done by labeling all the feature records that fall into the 24 hours window before a failure as TRUE.The rest of the records are labeled as FALSE indicating, there is no failure within the next 24 hour"
   ]
  },
  {
   "cell_type": "code",
   "execution_count": 35,
   "metadata": {},
   "outputs": [],
   "source": [
    "df = pd.read_csv('datasets/machine_predictive_maintenance/features.csv')"
   ]
  },
  {
   "cell_type": "code",
   "execution_count": 36,
   "metadata": {},
   "outputs": [
    {
     "name": "stdout",
     "output_type": "stream",
     "text": [
      "<class 'pandas.core.frame.DataFrame'>\n",
      "RangeIndex: 291300 entries, 0 to 291299\n",
      "Data columns (total 18 columns):\n",
      "datetime         291300 non-null object\n",
      "machineID        291300 non-null int64\n",
      "voltmean         291300 non-null float64\n",
      "rotatemean       291300 non-null float64\n",
      "pressuremean     291300 non-null float64\n",
      "vibrationmean    291300 non-null float64\n",
      "voltsd           291300 non-null float64\n",
      "rotatesd         291300 non-null float64\n",
      "pressuresd       291300 non-null float64\n",
      "vibrationsd      291300 non-null float64\n",
      "error1count      291300 non-null float64\n",
      "error2count      291300 non-null float64\n",
      "error3count      291300 non-null float64\n",
      "error4count      291300 non-null float64\n",
      "error5count      291300 non-null float64\n",
      "model            291300 non-null object\n",
      "age              291300 non-null int64\n",
      "failure          291300 non-null bool\n",
      "dtypes: bool(1), float64(13), int64(2), object(2)\n",
      "memory usage: 38.1+ MB\n"
     ]
    }
   ],
   "source": [
    "df.info()"
   ]
  },
  {
   "cell_type": "code",
   "execution_count": 37,
   "metadata": {},
   "outputs": [
    {
     "data": {
      "text/html": [
       "<div>\n",
       "<style scoped>\n",
       "    .dataframe tbody tr th:only-of-type {\n",
       "        vertical-align: middle;\n",
       "    }\n",
       "\n",
       "    .dataframe tbody tr th {\n",
       "        vertical-align: top;\n",
       "    }\n",
       "\n",
       "    .dataframe thead th {\n",
       "        text-align: right;\n",
       "    }\n",
       "</style>\n",
       "<table border=\"1\" class=\"dataframe\">\n",
       "  <thead>\n",
       "    <tr style=\"text-align: right;\">\n",
       "      <th></th>\n",
       "      <th>datetime</th>\n",
       "      <th>machineID</th>\n",
       "      <th>voltmean</th>\n",
       "      <th>rotatemean</th>\n",
       "      <th>pressuremean</th>\n",
       "      <th>vibrationmean</th>\n",
       "      <th>voltsd</th>\n",
       "      <th>rotatesd</th>\n",
       "      <th>pressuresd</th>\n",
       "      <th>vibrationsd</th>\n",
       "      <th>error1count</th>\n",
       "      <th>error2count</th>\n",
       "      <th>error3count</th>\n",
       "      <th>error4count</th>\n",
       "      <th>error5count</th>\n",
       "      <th>model</th>\n",
       "      <th>age</th>\n",
       "      <th>failure</th>\n",
       "    </tr>\n",
       "  </thead>\n",
       "  <tbody>\n",
       "    <tr>\n",
       "      <th>0</th>\n",
       "      <td>2015-01-02T05:00:00Z</td>\n",
       "      <td>1</td>\n",
       "      <td>169.733809</td>\n",
       "      <td>445.179865</td>\n",
       "      <td>96.797113</td>\n",
       "      <td>40.385160</td>\n",
       "      <td>11.233120</td>\n",
       "      <td>48.717395</td>\n",
       "      <td>10.079880</td>\n",
       "      <td>5.853209</td>\n",
       "      <td>0.0</td>\n",
       "      <td>0.0</td>\n",
       "      <td>0.0</td>\n",
       "      <td>0.0</td>\n",
       "      <td>0.0</td>\n",
       "      <td>model3</td>\n",
       "      <td>18</td>\n",
       "      <td>False</td>\n",
       "    </tr>\n",
       "    <tr>\n",
       "      <th>1</th>\n",
       "      <td>2015-01-02T08:00:00Z</td>\n",
       "      <td>1</td>\n",
       "      <td>170.525721</td>\n",
       "      <td>443.906847</td>\n",
       "      <td>97.667249</td>\n",
       "      <td>39.786670</td>\n",
       "      <td>12.591948</td>\n",
       "      <td>46.930282</td>\n",
       "      <td>9.406795</td>\n",
       "      <td>6.098173</td>\n",
       "      <td>0.0</td>\n",
       "      <td>0.0</td>\n",
       "      <td>0.0</td>\n",
       "      <td>0.0</td>\n",
       "      <td>0.0</td>\n",
       "      <td>model3</td>\n",
       "      <td>18</td>\n",
       "      <td>False</td>\n",
       "    </tr>\n",
       "    <tr>\n",
       "      <th>2</th>\n",
       "      <td>2015-01-02T11:00:00Z</td>\n",
       "      <td>1</td>\n",
       "      <td>170.049722</td>\n",
       "      <td>446.461279</td>\n",
       "      <td>96.906162</td>\n",
       "      <td>40.016513</td>\n",
       "      <td>13.277336</td>\n",
       "      <td>42.836780</td>\n",
       "      <td>9.071472</td>\n",
       "      <td>5.481724</td>\n",
       "      <td>0.0</td>\n",
       "      <td>0.0</td>\n",
       "      <td>0.0</td>\n",
       "      <td>0.0</td>\n",
       "      <td>0.0</td>\n",
       "      <td>model3</td>\n",
       "      <td>18</td>\n",
       "      <td>False</td>\n",
       "    </tr>\n",
       "    <tr>\n",
       "      <th>3</th>\n",
       "      <td>2015-01-02T14:00:00Z</td>\n",
       "      <td>1</td>\n",
       "      <td>170.341974</td>\n",
       "      <td>447.355315</td>\n",
       "      <td>96.229522</td>\n",
       "      <td>39.921963</td>\n",
       "      <td>13.817158</td>\n",
       "      <td>42.808633</td>\n",
       "      <td>8.256794</td>\n",
       "      <td>5.862312</td>\n",
       "      <td>0.0</td>\n",
       "      <td>0.0</td>\n",
       "      <td>0.0</td>\n",
       "      <td>0.0</td>\n",
       "      <td>0.0</td>\n",
       "      <td>model3</td>\n",
       "      <td>18</td>\n",
       "      <td>False</td>\n",
       "    </tr>\n",
       "    <tr>\n",
       "      <th>4</th>\n",
       "      <td>2015-01-02T17:00:00Z</td>\n",
       "      <td>1</td>\n",
       "      <td>170.060643</td>\n",
       "      <td>452.163407</td>\n",
       "      <td>96.357441</td>\n",
       "      <td>39.990470</td>\n",
       "      <td>14.792869</td>\n",
       "      <td>42.525293</td>\n",
       "      <td>8.669605</td>\n",
       "      <td>5.907157</td>\n",
       "      <td>0.0</td>\n",
       "      <td>0.0</td>\n",
       "      <td>0.0</td>\n",
       "      <td>0.0</td>\n",
       "      <td>0.0</td>\n",
       "      <td>model3</td>\n",
       "      <td>18</td>\n",
       "      <td>False</td>\n",
       "    </tr>\n",
       "  </tbody>\n",
       "</table>\n",
       "</div>"
      ],
      "text/plain": [
       "               datetime  machineID    voltmean  rotatemean  pressuremean  \\\n",
       "0  2015-01-02T05:00:00Z          1  169.733809  445.179865     96.797113   \n",
       "1  2015-01-02T08:00:00Z          1  170.525721  443.906847     97.667249   \n",
       "2  2015-01-02T11:00:00Z          1  170.049722  446.461279     96.906162   \n",
       "3  2015-01-02T14:00:00Z          1  170.341974  447.355315     96.229522   \n",
       "4  2015-01-02T17:00:00Z          1  170.060643  452.163407     96.357441   \n",
       "\n",
       "   vibrationmean     voltsd   rotatesd  pressuresd  vibrationsd  error1count  \\\n",
       "0      40.385160  11.233120  48.717395   10.079880     5.853209          0.0   \n",
       "1      39.786670  12.591948  46.930282    9.406795     6.098173          0.0   \n",
       "2      40.016513  13.277336  42.836780    9.071472     5.481724          0.0   \n",
       "3      39.921963  13.817158  42.808633    8.256794     5.862312          0.0   \n",
       "4      39.990470  14.792869  42.525293    8.669605     5.907157          0.0   \n",
       "\n",
       "   error2count  error3count  error4count  error5count   model  age  failure  \n",
       "0          0.0          0.0          0.0          0.0  model3   18    False  \n",
       "1          0.0          0.0          0.0          0.0  model3   18    False  \n",
       "2          0.0          0.0          0.0          0.0  model3   18    False  \n",
       "3          0.0          0.0          0.0          0.0  model3   18    False  \n",
       "4          0.0          0.0          0.0          0.0  model3   18    False  "
      ]
     },
     "execution_count": 37,
     "metadata": {},
     "output_type": "execute_result"
    }
   ],
   "source": [
    "df.head()"
   ]
  },
  {
   "cell_type": "code",
   "execution_count": 38,
   "metadata": {},
   "outputs": [],
   "source": [
    "df.datetime = pd.to_datetime(df.datetime)"
   ]
  },
  {
   "cell_type": "code",
   "execution_count": 39,
   "metadata": {},
   "outputs": [],
   "source": [
    "df.model = df.model.astype('category')"
   ]
  },
  {
   "cell_type": "code",
   "execution_count": 40,
   "metadata": {},
   "outputs": [
    {
     "data": {
      "text/html": [
       "<div>\n",
       "<style scoped>\n",
       "    .dataframe tbody tr th:only-of-type {\n",
       "        vertical-align: middle;\n",
       "    }\n",
       "\n",
       "    .dataframe tbody tr th {\n",
       "        vertical-align: top;\n",
       "    }\n",
       "\n",
       "    .dataframe thead th {\n",
       "        text-align: right;\n",
       "    }\n",
       "</style>\n",
       "<table border=\"1\" class=\"dataframe\">\n",
       "  <thead>\n",
       "    <tr style=\"text-align: right;\">\n",
       "      <th></th>\n",
       "      <th>datetime</th>\n",
       "      <th>machineID</th>\n",
       "      <th>voltmean</th>\n",
       "      <th>rotatemean</th>\n",
       "      <th>pressuremean</th>\n",
       "      <th>vibrationmean</th>\n",
       "      <th>voltsd</th>\n",
       "      <th>rotatesd</th>\n",
       "      <th>pressuresd</th>\n",
       "      <th>vibrationsd</th>\n",
       "      <th>error1count</th>\n",
       "      <th>error2count</th>\n",
       "      <th>error3count</th>\n",
       "      <th>error4count</th>\n",
       "      <th>error5count</th>\n",
       "      <th>model</th>\n",
       "      <th>age</th>\n",
       "      <th>failure</th>\n",
       "    </tr>\n",
       "  </thead>\n",
       "  <tbody>\n",
       "    <tr>\n",
       "      <th>0</th>\n",
       "      <td>2015-01-02 05:00:00+00:00</td>\n",
       "      <td>1</td>\n",
       "      <td>169.733809</td>\n",
       "      <td>445.179865</td>\n",
       "      <td>96.797113</td>\n",
       "      <td>40.385160</td>\n",
       "      <td>11.233120</td>\n",
       "      <td>48.717395</td>\n",
       "      <td>10.079880</td>\n",
       "      <td>5.853209</td>\n",
       "      <td>0.0</td>\n",
       "      <td>0.0</td>\n",
       "      <td>0.0</td>\n",
       "      <td>0.0</td>\n",
       "      <td>0.0</td>\n",
       "      <td>model3</td>\n",
       "      <td>18</td>\n",
       "      <td>False</td>\n",
       "    </tr>\n",
       "    <tr>\n",
       "      <th>1</th>\n",
       "      <td>2015-01-02 08:00:00+00:00</td>\n",
       "      <td>1</td>\n",
       "      <td>170.525721</td>\n",
       "      <td>443.906847</td>\n",
       "      <td>97.667249</td>\n",
       "      <td>39.786670</td>\n",
       "      <td>12.591948</td>\n",
       "      <td>46.930282</td>\n",
       "      <td>9.406795</td>\n",
       "      <td>6.098173</td>\n",
       "      <td>0.0</td>\n",
       "      <td>0.0</td>\n",
       "      <td>0.0</td>\n",
       "      <td>0.0</td>\n",
       "      <td>0.0</td>\n",
       "      <td>model3</td>\n",
       "      <td>18</td>\n",
       "      <td>False</td>\n",
       "    </tr>\n",
       "    <tr>\n",
       "      <th>2</th>\n",
       "      <td>2015-01-02 11:00:00+00:00</td>\n",
       "      <td>1</td>\n",
       "      <td>170.049722</td>\n",
       "      <td>446.461279</td>\n",
       "      <td>96.906162</td>\n",
       "      <td>40.016513</td>\n",
       "      <td>13.277336</td>\n",
       "      <td>42.836780</td>\n",
       "      <td>9.071472</td>\n",
       "      <td>5.481724</td>\n",
       "      <td>0.0</td>\n",
       "      <td>0.0</td>\n",
       "      <td>0.0</td>\n",
       "      <td>0.0</td>\n",
       "      <td>0.0</td>\n",
       "      <td>model3</td>\n",
       "      <td>18</td>\n",
       "      <td>False</td>\n",
       "    </tr>\n",
       "    <tr>\n",
       "      <th>3</th>\n",
       "      <td>2015-01-02 14:00:00+00:00</td>\n",
       "      <td>1</td>\n",
       "      <td>170.341974</td>\n",
       "      <td>447.355315</td>\n",
       "      <td>96.229522</td>\n",
       "      <td>39.921963</td>\n",
       "      <td>13.817158</td>\n",
       "      <td>42.808633</td>\n",
       "      <td>8.256794</td>\n",
       "      <td>5.862312</td>\n",
       "      <td>0.0</td>\n",
       "      <td>0.0</td>\n",
       "      <td>0.0</td>\n",
       "      <td>0.0</td>\n",
       "      <td>0.0</td>\n",
       "      <td>model3</td>\n",
       "      <td>18</td>\n",
       "      <td>False</td>\n",
       "    </tr>\n",
       "    <tr>\n",
       "      <th>4</th>\n",
       "      <td>2015-01-02 17:00:00+00:00</td>\n",
       "      <td>1</td>\n",
       "      <td>170.060643</td>\n",
       "      <td>452.163407</td>\n",
       "      <td>96.357441</td>\n",
       "      <td>39.990470</td>\n",
       "      <td>14.792869</td>\n",
       "      <td>42.525293</td>\n",
       "      <td>8.669605</td>\n",
       "      <td>5.907157</td>\n",
       "      <td>0.0</td>\n",
       "      <td>0.0</td>\n",
       "      <td>0.0</td>\n",
       "      <td>0.0</td>\n",
       "      <td>0.0</td>\n",
       "      <td>model3</td>\n",
       "      <td>18</td>\n",
       "      <td>False</td>\n",
       "    </tr>\n",
       "  </tbody>\n",
       "</table>\n",
       "</div>"
      ],
      "text/plain": [
       "                   datetime  machineID    voltmean  rotatemean  pressuremean  \\\n",
       "0 2015-01-02 05:00:00+00:00          1  169.733809  445.179865     96.797113   \n",
       "1 2015-01-02 08:00:00+00:00          1  170.525721  443.906847     97.667249   \n",
       "2 2015-01-02 11:00:00+00:00          1  170.049722  446.461279     96.906162   \n",
       "3 2015-01-02 14:00:00+00:00          1  170.341974  447.355315     96.229522   \n",
       "4 2015-01-02 17:00:00+00:00          1  170.060643  452.163407     96.357441   \n",
       "\n",
       "   vibrationmean     voltsd   rotatesd  pressuresd  vibrationsd  error1count  \\\n",
       "0      40.385160  11.233120  48.717395   10.079880     5.853209          0.0   \n",
       "1      39.786670  12.591948  46.930282    9.406795     6.098173          0.0   \n",
       "2      40.016513  13.277336  42.836780    9.071472     5.481724          0.0   \n",
       "3      39.921963  13.817158  42.808633    8.256794     5.862312          0.0   \n",
       "4      39.990470  14.792869  42.525293    8.669605     5.907157          0.0   \n",
       "\n",
       "   error2count  error3count  error4count  error5count   model  age  failure  \n",
       "0          0.0          0.0          0.0          0.0  model3   18    False  \n",
       "1          0.0          0.0          0.0          0.0  model3   18    False  \n",
       "2          0.0          0.0          0.0          0.0  model3   18    False  \n",
       "3          0.0          0.0          0.0          0.0  model3   18    False  \n",
       "4          0.0          0.0          0.0          0.0  model3   18    False  "
      ]
     },
     "execution_count": 40,
     "metadata": {},
     "output_type": "execute_result"
    }
   ],
   "source": [
    "df.head()"
   ]
  },
  {
   "cell_type": "markdown",
   "metadata": {},
   "source": [
    "## Model Development"
   ]
  },
  {
   "cell_type": "code",
   "execution_count": 41,
   "metadata": {},
   "outputs": [],
   "source": [
    "from sklearn.model_selection import train_test_split\n",
    "\n",
    "X_train, X_test, y_train, y_test = train_test_split(df.drop(['failure','datetime'],axis = 1), \n",
    "                                                    df.failure,\n",
    "                                                    test_size=0.3, \n",
    "                                                    random_state=101)"
   ]
  },
  {
   "cell_type": "code",
   "execution_count": 42,
   "metadata": {},
   "outputs": [
    {
     "data": {
      "text/plain": [
       "87390"
      ]
     },
     "execution_count": 42,
     "metadata": {},
     "output_type": "execute_result"
    }
   ],
   "source": [
    "len(y_test)"
   ]
  },
  {
   "cell_type": "code",
   "execution_count": 43,
   "metadata": {},
   "outputs": [
    {
     "data": {
      "text/plain": [
       "203910"
      ]
     },
     "execution_count": 43,
     "metadata": {},
     "output_type": "execute_result"
    }
   ],
   "source": [
    "len(y_train)"
   ]
  },
  {
   "cell_type": "code",
   "execution_count": 44,
   "metadata": {},
   "outputs": [
    {
     "data": {
      "text/html": [
       "<div>\n",
       "<style scoped>\n",
       "    .dataframe tbody tr th:only-of-type {\n",
       "        vertical-align: middle;\n",
       "    }\n",
       "\n",
       "    .dataframe tbody tr th {\n",
       "        vertical-align: top;\n",
       "    }\n",
       "\n",
       "    .dataframe thead th {\n",
       "        text-align: right;\n",
       "    }\n",
       "</style>\n",
       "<table border=\"1\" class=\"dataframe\">\n",
       "  <thead>\n",
       "    <tr style=\"text-align: right;\">\n",
       "      <th></th>\n",
       "      <th>machineID</th>\n",
       "      <th>voltmean</th>\n",
       "      <th>rotatemean</th>\n",
       "      <th>pressuremean</th>\n",
       "      <th>vibrationmean</th>\n",
       "      <th>voltsd</th>\n",
       "      <th>rotatesd</th>\n",
       "      <th>pressuresd</th>\n",
       "      <th>vibrationsd</th>\n",
       "      <th>error1count</th>\n",
       "      <th>error2count</th>\n",
       "      <th>error3count</th>\n",
       "      <th>error4count</th>\n",
       "      <th>error5count</th>\n",
       "      <th>age</th>\n",
       "    </tr>\n",
       "  </thead>\n",
       "  <tbody>\n",
       "    <tr>\n",
       "      <th>223994</th>\n",
       "      <td>77</td>\n",
       "      <td>186.716299</td>\n",
       "      <td>443.699369</td>\n",
       "      <td>98.619249</td>\n",
       "      <td>38.858736</td>\n",
       "      <td>17.353674</td>\n",
       "      <td>44.645681</td>\n",
       "      <td>12.467771</td>\n",
       "      <td>4.652137</td>\n",
       "      <td>0.0</td>\n",
       "      <td>0.0</td>\n",
       "      <td>0.0</td>\n",
       "      <td>0.0</td>\n",
       "      <td>0.0</td>\n",
       "      <td>12</td>\n",
       "    </tr>\n",
       "    <tr>\n",
       "      <th>285560</th>\n",
       "      <td>99</td>\n",
       "      <td>169.526588</td>\n",
       "      <td>455.163821</td>\n",
       "      <td>101.596673</td>\n",
       "      <td>39.858468</td>\n",
       "      <td>14.826978</td>\n",
       "      <td>53.594743</td>\n",
       "      <td>9.655152</td>\n",
       "      <td>4.591573</td>\n",
       "      <td>0.0</td>\n",
       "      <td>0.0</td>\n",
       "      <td>0.0</td>\n",
       "      <td>0.0</td>\n",
       "      <td>0.0</td>\n",
       "      <td>14</td>\n",
       "    </tr>\n",
       "    <tr>\n",
       "      <th>184307</th>\n",
       "      <td>64</td>\n",
       "      <td>167.921308</td>\n",
       "      <td>434.531181</td>\n",
       "      <td>98.966585</td>\n",
       "      <td>39.219417</td>\n",
       "      <td>19.364052</td>\n",
       "      <td>48.913727</td>\n",
       "      <td>9.476126</td>\n",
       "      <td>6.021723</td>\n",
       "      <td>0.0</td>\n",
       "      <td>0.0</td>\n",
       "      <td>0.0</td>\n",
       "      <td>0.0</td>\n",
       "      <td>0.0</td>\n",
       "      <td>20</td>\n",
       "    </tr>\n",
       "    <tr>\n",
       "      <th>112749</th>\n",
       "      <td>39</td>\n",
       "      <td>166.642070</td>\n",
       "      <td>458.970319</td>\n",
       "      <td>97.653249</td>\n",
       "      <td>39.817805</td>\n",
       "      <td>13.919433</td>\n",
       "      <td>52.055430</td>\n",
       "      <td>10.820214</td>\n",
       "      <td>5.040097</td>\n",
       "      <td>0.0</td>\n",
       "      <td>0.0</td>\n",
       "      <td>0.0</td>\n",
       "      <td>0.0</td>\n",
       "      <td>0.0</td>\n",
       "      <td>0</td>\n",
       "    </tr>\n",
       "    <tr>\n",
       "      <th>58042</th>\n",
       "      <td>20</td>\n",
       "      <td>167.570358</td>\n",
       "      <td>457.004586</td>\n",
       "      <td>100.985528</td>\n",
       "      <td>40.284269</td>\n",
       "      <td>16.178388</td>\n",
       "      <td>56.404641</td>\n",
       "      <td>11.056968</td>\n",
       "      <td>4.299149</td>\n",
       "      <td>0.0</td>\n",
       "      <td>0.0</td>\n",
       "      <td>0.0</td>\n",
       "      <td>0.0</td>\n",
       "      <td>0.0</td>\n",
       "      <td>16</td>\n",
       "    </tr>\n",
       "  </tbody>\n",
       "</table>\n",
       "</div>"
      ],
      "text/plain": [
       "        machineID    voltmean  rotatemean  pressuremean  vibrationmean  \\\n",
       "223994         77  186.716299  443.699369     98.619249      38.858736   \n",
       "285560         99  169.526588  455.163821    101.596673      39.858468   \n",
       "184307         64  167.921308  434.531181     98.966585      39.219417   \n",
       "112749         39  166.642070  458.970319     97.653249      39.817805   \n",
       "58042          20  167.570358  457.004586    100.985528      40.284269   \n",
       "\n",
       "           voltsd   rotatesd  pressuresd  vibrationsd  error1count  \\\n",
       "223994  17.353674  44.645681   12.467771     4.652137          0.0   \n",
       "285560  14.826978  53.594743    9.655152     4.591573          0.0   \n",
       "184307  19.364052  48.913727    9.476126     6.021723          0.0   \n",
       "112749  13.919433  52.055430   10.820214     5.040097          0.0   \n",
       "58042   16.178388  56.404641   11.056968     4.299149          0.0   \n",
       "\n",
       "        error2count  error3count  error4count  error5count  age  \n",
       "223994          0.0          0.0          0.0          0.0   12  \n",
       "285560          0.0          0.0          0.0          0.0   14  \n",
       "184307          0.0          0.0          0.0          0.0   20  \n",
       "112749          0.0          0.0          0.0          0.0    0  \n",
       "58042           0.0          0.0          0.0          0.0   16  "
      ]
     },
     "execution_count": 44,
     "metadata": {},
     "output_type": "execute_result"
    }
   ],
   "source": [
    "numeric = list(X_train.select_dtypes(include=['float64','int64']).columns)\n",
    "\n",
    "num = pd.DataFrame(data = X_train[numeric], columns = numeric)\n",
    "num.head()"
   ]
  },
  {
   "cell_type": "code",
   "execution_count": 45,
   "metadata": {},
   "outputs": [
    {
     "data": {
      "text/html": [
       "<div>\n",
       "<style scoped>\n",
       "    .dataframe tbody tr th:only-of-type {\n",
       "        vertical-align: middle;\n",
       "    }\n",
       "\n",
       "    .dataframe tbody tr th {\n",
       "        vertical-align: top;\n",
       "    }\n",
       "\n",
       "    .dataframe thead th {\n",
       "        text-align: right;\n",
       "    }\n",
       "</style>\n",
       "<table border=\"1\" class=\"dataframe\">\n",
       "  <thead>\n",
       "    <tr style=\"text-align: right;\">\n",
       "      <th></th>\n",
       "      <th>x0_model1</th>\n",
       "      <th>x0_model2</th>\n",
       "      <th>x0_model3</th>\n",
       "      <th>x0_model4</th>\n",
       "    </tr>\n",
       "  </thead>\n",
       "  <tbody>\n",
       "    <tr>\n",
       "      <th>0</th>\n",
       "      <td>0.0</td>\n",
       "      <td>0.0</td>\n",
       "      <td>0.0</td>\n",
       "      <td>1.0</td>\n",
       "    </tr>\n",
       "    <tr>\n",
       "      <th>1</th>\n",
       "      <td>1.0</td>\n",
       "      <td>0.0</td>\n",
       "      <td>0.0</td>\n",
       "      <td>0.0</td>\n",
       "    </tr>\n",
       "    <tr>\n",
       "      <th>2</th>\n",
       "      <td>0.0</td>\n",
       "      <td>0.0</td>\n",
       "      <td>1.0</td>\n",
       "      <td>0.0</td>\n",
       "    </tr>\n",
       "    <tr>\n",
       "      <th>3</th>\n",
       "      <td>0.0</td>\n",
       "      <td>0.0</td>\n",
       "      <td>0.0</td>\n",
       "      <td>1.0</td>\n",
       "    </tr>\n",
       "    <tr>\n",
       "      <th>4</th>\n",
       "      <td>0.0</td>\n",
       "      <td>1.0</td>\n",
       "      <td>0.0</td>\n",
       "      <td>0.0</td>\n",
       "    </tr>\n",
       "  </tbody>\n",
       "</table>\n",
       "</div>"
      ],
      "text/plain": [
       "   x0_model1  x0_model2  x0_model3  x0_model4\n",
       "0        0.0        0.0        0.0        1.0\n",
       "1        1.0        0.0        0.0        0.0\n",
       "2        0.0        0.0        1.0        0.0\n",
       "3        0.0        0.0        0.0        1.0\n",
       "4        0.0        1.0        0.0        0.0"
      ]
     },
     "execution_count": 45,
     "metadata": {},
     "output_type": "execute_result"
    }
   ],
   "source": [
    "categorical = list(X_train.select_dtypes(include=['category','bool']).columns)\n",
    "\n",
    "from sklearn.preprocessing import OneHotEncoder\n",
    "\n",
    "encoder = OneHotEncoder()\n",
    "encoder.fit(X_train[categorical])\n",
    "cat = pd.DataFrame(encoder.transform(X_train[categorical]).toarray(),columns = encoder.get_feature_names())\n",
    "cat.head()"
   ]
  },
  {
   "cell_type": "code",
   "execution_count": 46,
   "metadata": {},
   "outputs": [],
   "source": [
    "X_train_pre = num.merge(cat, left_on=num.index, right_on= cat.index).drop(['key_0'],axis = 1)"
   ]
  },
  {
   "cell_type": "code",
   "execution_count": 47,
   "metadata": {
    "scrolled": true
   },
   "outputs": [
    {
     "data": {
      "text/html": [
       "<div>\n",
       "<style scoped>\n",
       "    .dataframe tbody tr th:only-of-type {\n",
       "        vertical-align: middle;\n",
       "    }\n",
       "\n",
       "    .dataframe tbody tr th {\n",
       "        vertical-align: top;\n",
       "    }\n",
       "\n",
       "    .dataframe thead th {\n",
       "        text-align: right;\n",
       "    }\n",
       "</style>\n",
       "<table border=\"1\" class=\"dataframe\">\n",
       "  <thead>\n",
       "    <tr style=\"text-align: right;\">\n",
       "      <th></th>\n",
       "      <th>machineID</th>\n",
       "      <th>voltmean</th>\n",
       "      <th>rotatemean</th>\n",
       "      <th>pressuremean</th>\n",
       "      <th>vibrationmean</th>\n",
       "      <th>voltsd</th>\n",
       "      <th>rotatesd</th>\n",
       "      <th>pressuresd</th>\n",
       "      <th>vibrationsd</th>\n",
       "      <th>error1count</th>\n",
       "      <th>error2count</th>\n",
       "      <th>error3count</th>\n",
       "      <th>error4count</th>\n",
       "      <th>error5count</th>\n",
       "      <th>age</th>\n",
       "      <th>x0_model1</th>\n",
       "      <th>x0_model2</th>\n",
       "      <th>x0_model3</th>\n",
       "      <th>x0_model4</th>\n",
       "    </tr>\n",
       "  </thead>\n",
       "  <tbody>\n",
       "    <tr>\n",
       "      <th>0</th>\n",
       "      <td>64</td>\n",
       "      <td>167.921308</td>\n",
       "      <td>434.531181</td>\n",
       "      <td>98.966585</td>\n",
       "      <td>39.219417</td>\n",
       "      <td>19.364052</td>\n",
       "      <td>48.913727</td>\n",
       "      <td>9.476126</td>\n",
       "      <td>6.021723</td>\n",
       "      <td>0.0</td>\n",
       "      <td>0.0</td>\n",
       "      <td>0.0</td>\n",
       "      <td>0.0</td>\n",
       "      <td>0.0</td>\n",
       "      <td>20</td>\n",
       "      <td>0.0</td>\n",
       "      <td>0.0</td>\n",
       "      <td>1.0</td>\n",
       "      <td>0.0</td>\n",
       "    </tr>\n",
       "    <tr>\n",
       "      <th>1</th>\n",
       "      <td>39</td>\n",
       "      <td>166.642070</td>\n",
       "      <td>458.970319</td>\n",
       "      <td>97.653249</td>\n",
       "      <td>39.817805</td>\n",
       "      <td>13.919433</td>\n",
       "      <td>52.055430</td>\n",
       "      <td>10.820214</td>\n",
       "      <td>5.040097</td>\n",
       "      <td>0.0</td>\n",
       "      <td>0.0</td>\n",
       "      <td>0.0</td>\n",
       "      <td>0.0</td>\n",
       "      <td>0.0</td>\n",
       "      <td>0</td>\n",
       "      <td>0.0</td>\n",
       "      <td>0.0</td>\n",
       "      <td>0.0</td>\n",
       "      <td>1.0</td>\n",
       "    </tr>\n",
       "    <tr>\n",
       "      <th>2</th>\n",
       "      <td>20</td>\n",
       "      <td>167.570358</td>\n",
       "      <td>457.004586</td>\n",
       "      <td>100.985528</td>\n",
       "      <td>40.284269</td>\n",
       "      <td>16.178388</td>\n",
       "      <td>56.404641</td>\n",
       "      <td>11.056968</td>\n",
       "      <td>4.299149</td>\n",
       "      <td>0.0</td>\n",
       "      <td>0.0</td>\n",
       "      <td>0.0</td>\n",
       "      <td>0.0</td>\n",
       "      <td>0.0</td>\n",
       "      <td>16</td>\n",
       "      <td>1.0</td>\n",
       "      <td>0.0</td>\n",
       "      <td>0.0</td>\n",
       "      <td>0.0</td>\n",
       "    </tr>\n",
       "    <tr>\n",
       "      <th>3</th>\n",
       "      <td>49</td>\n",
       "      <td>168.352713</td>\n",
       "      <td>443.870094</td>\n",
       "      <td>98.931325</td>\n",
       "      <td>41.584399</td>\n",
       "      <td>14.913061</td>\n",
       "      <td>59.855968</td>\n",
       "      <td>8.309351</td>\n",
       "      <td>5.918758</td>\n",
       "      <td>1.0</td>\n",
       "      <td>0.0</td>\n",
       "      <td>0.0</td>\n",
       "      <td>0.0</td>\n",
       "      <td>0.0</td>\n",
       "      <td>15</td>\n",
       "      <td>0.0</td>\n",
       "      <td>1.0</td>\n",
       "      <td>0.0</td>\n",
       "      <td>0.0</td>\n",
       "    </tr>\n",
       "    <tr>\n",
       "      <th>4</th>\n",
       "      <td>37</td>\n",
       "      <td>172.262435</td>\n",
       "      <td>443.519938</td>\n",
       "      <td>97.959139</td>\n",
       "      <td>38.181701</td>\n",
       "      <td>14.340624</td>\n",
       "      <td>44.627402</td>\n",
       "      <td>9.661735</td>\n",
       "      <td>4.688836</td>\n",
       "      <td>0.0</td>\n",
       "      <td>0.0</td>\n",
       "      <td>0.0</td>\n",
       "      <td>0.0</td>\n",
       "      <td>0.0</td>\n",
       "      <td>16</td>\n",
       "      <td>0.0</td>\n",
       "      <td>0.0</td>\n",
       "      <td>1.0</td>\n",
       "      <td>0.0</td>\n",
       "    </tr>\n",
       "  </tbody>\n",
       "</table>\n",
       "</div>"
      ],
      "text/plain": [
       "   machineID    voltmean  rotatemean  pressuremean  vibrationmean     voltsd  \\\n",
       "0         64  167.921308  434.531181     98.966585      39.219417  19.364052   \n",
       "1         39  166.642070  458.970319     97.653249      39.817805  13.919433   \n",
       "2         20  167.570358  457.004586    100.985528      40.284269  16.178388   \n",
       "3         49  168.352713  443.870094     98.931325      41.584399  14.913061   \n",
       "4         37  172.262435  443.519938     97.959139      38.181701  14.340624   \n",
       "\n",
       "    rotatesd  pressuresd  vibrationsd  error1count  error2count  error3count  \\\n",
       "0  48.913727    9.476126     6.021723          0.0          0.0          0.0   \n",
       "1  52.055430   10.820214     5.040097          0.0          0.0          0.0   \n",
       "2  56.404641   11.056968     4.299149          0.0          0.0          0.0   \n",
       "3  59.855968    8.309351     5.918758          1.0          0.0          0.0   \n",
       "4  44.627402    9.661735     4.688836          0.0          0.0          0.0   \n",
       "\n",
       "   error4count  error5count  age  x0_model1  x0_model2  x0_model3  x0_model4  \n",
       "0          0.0          0.0   20        0.0        0.0        1.0        0.0  \n",
       "1          0.0          0.0    0        0.0        0.0        0.0        1.0  \n",
       "2          0.0          0.0   16        1.0        0.0        0.0        0.0  \n",
       "3          0.0          0.0   15        0.0        1.0        0.0        0.0  \n",
       "4          0.0          0.0   16        0.0        0.0        1.0        0.0  "
      ]
     },
     "execution_count": 47,
     "metadata": {},
     "output_type": "execute_result"
    }
   ],
   "source": [
    "X_train_pre.head()"
   ]
  },
  {
   "cell_type": "code",
   "execution_count": 48,
   "metadata": {},
   "outputs": [
    {
     "data": {
      "text/html": [
       "<div>\n",
       "<style scoped>\n",
       "    .dataframe tbody tr th:only-of-type {\n",
       "        vertical-align: middle;\n",
       "    }\n",
       "\n",
       "    .dataframe tbody tr th {\n",
       "        vertical-align: top;\n",
       "    }\n",
       "\n",
       "    .dataframe thead th {\n",
       "        text-align: right;\n",
       "    }\n",
       "</style>\n",
       "<table border=\"1\" class=\"dataframe\">\n",
       "  <thead>\n",
       "    <tr style=\"text-align: right;\">\n",
       "      <th></th>\n",
       "      <th>machineID</th>\n",
       "      <th>voltmean</th>\n",
       "      <th>rotatemean</th>\n",
       "      <th>pressuremean</th>\n",
       "      <th>vibrationmean</th>\n",
       "      <th>voltsd</th>\n",
       "      <th>rotatesd</th>\n",
       "      <th>pressuresd</th>\n",
       "      <th>vibrationsd</th>\n",
       "      <th>error1count</th>\n",
       "      <th>error2count</th>\n",
       "      <th>error3count</th>\n",
       "      <th>error4count</th>\n",
       "      <th>error5count</th>\n",
       "      <th>age</th>\n",
       "      <th>x0_model1</th>\n",
       "      <th>x0_model2</th>\n",
       "      <th>x0_model3</th>\n",
       "      <th>x0_model4</th>\n",
       "    </tr>\n",
       "  </thead>\n",
       "  <tbody>\n",
       "    <tr>\n",
       "      <th>0</th>\n",
       "      <td>15</td>\n",
       "      <td>170.058262</td>\n",
       "      <td>450.955638</td>\n",
       "      <td>100.331765</td>\n",
       "      <td>38.186484</td>\n",
       "      <td>10.969578</td>\n",
       "      <td>52.123556</td>\n",
       "      <td>9.749602</td>\n",
       "      <td>4.720366</td>\n",
       "      <td>0.0</td>\n",
       "      <td>0.0</td>\n",
       "      <td>1.0</td>\n",
       "      <td>1.0</td>\n",
       "      <td>0.0</td>\n",
       "      <td>14</td>\n",
       "      <td>0.0</td>\n",
       "      <td>0.0</td>\n",
       "      <td>0.0</td>\n",
       "      <td>1.0</td>\n",
       "    </tr>\n",
       "    <tr>\n",
       "      <th>1</th>\n",
       "      <td>16</td>\n",
       "      <td>168.358077</td>\n",
       "      <td>449.561659</td>\n",
       "      <td>95.777900</td>\n",
       "      <td>38.495238</td>\n",
       "      <td>19.430792</td>\n",
       "      <td>54.485817</td>\n",
       "      <td>9.376011</td>\n",
       "      <td>4.111367</td>\n",
       "      <td>0.0</td>\n",
       "      <td>0.0</td>\n",
       "      <td>0.0</td>\n",
       "      <td>0.0</td>\n",
       "      <td>0.0</td>\n",
       "      <td>3</td>\n",
       "      <td>0.0</td>\n",
       "      <td>0.0</td>\n",
       "      <td>1.0</td>\n",
       "      <td>0.0</td>\n",
       "    </tr>\n",
       "    <tr>\n",
       "      <th>2</th>\n",
       "      <td>28</td>\n",
       "      <td>168.159750</td>\n",
       "      <td>452.247367</td>\n",
       "      <td>100.590732</td>\n",
       "      <td>40.407637</td>\n",
       "      <td>15.660684</td>\n",
       "      <td>49.489116</td>\n",
       "      <td>9.266770</td>\n",
       "      <td>4.614694</td>\n",
       "      <td>0.0</td>\n",
       "      <td>0.0</td>\n",
       "      <td>0.0</td>\n",
       "      <td>0.0</td>\n",
       "      <td>0.0</td>\n",
       "      <td>1</td>\n",
       "      <td>0.0</td>\n",
       "      <td>0.0</td>\n",
       "      <td>0.0</td>\n",
       "      <td>1.0</td>\n",
       "    </tr>\n",
       "    <tr>\n",
       "      <th>3</th>\n",
       "      <td>9</td>\n",
       "      <td>166.160304</td>\n",
       "      <td>456.475974</td>\n",
       "      <td>99.434037</td>\n",
       "      <td>40.293597</td>\n",
       "      <td>16.536700</td>\n",
       "      <td>62.257431</td>\n",
       "      <td>11.552117</td>\n",
       "      <td>4.532378</td>\n",
       "      <td>0.0</td>\n",
       "      <td>0.0</td>\n",
       "      <td>0.0</td>\n",
       "      <td>0.0</td>\n",
       "      <td>0.0</td>\n",
       "      <td>7</td>\n",
       "      <td>0.0</td>\n",
       "      <td>0.0</td>\n",
       "      <td>1.0</td>\n",
       "      <td>0.0</td>\n",
       "    </tr>\n",
       "    <tr>\n",
       "      <th>4</th>\n",
       "      <td>8</td>\n",
       "      <td>174.155257</td>\n",
       "      <td>452.840410</td>\n",
       "      <td>98.625488</td>\n",
       "      <td>40.542273</td>\n",
       "      <td>18.206234</td>\n",
       "      <td>48.833511</td>\n",
       "      <td>7.782292</td>\n",
       "      <td>5.258212</td>\n",
       "      <td>0.0</td>\n",
       "      <td>0.0</td>\n",
       "      <td>0.0</td>\n",
       "      <td>0.0</td>\n",
       "      <td>0.0</td>\n",
       "      <td>16</td>\n",
       "      <td>0.0</td>\n",
       "      <td>0.0</td>\n",
       "      <td>1.0</td>\n",
       "      <td>0.0</td>\n",
       "    </tr>\n",
       "  </tbody>\n",
       "</table>\n",
       "</div>"
      ],
      "text/plain": [
       "   machineID    voltmean  rotatemean  pressuremean  vibrationmean     voltsd  \\\n",
       "0         15  170.058262  450.955638    100.331765      38.186484  10.969578   \n",
       "1         16  168.358077  449.561659     95.777900      38.495238  19.430792   \n",
       "2         28  168.159750  452.247367    100.590732      40.407637  15.660684   \n",
       "3          9  166.160304  456.475974     99.434037      40.293597  16.536700   \n",
       "4          8  174.155257  452.840410     98.625488      40.542273  18.206234   \n",
       "\n",
       "    rotatesd  pressuresd  vibrationsd  error1count  error2count  error3count  \\\n",
       "0  52.123556    9.749602     4.720366          0.0          0.0          1.0   \n",
       "1  54.485817    9.376011     4.111367          0.0          0.0          0.0   \n",
       "2  49.489116    9.266770     4.614694          0.0          0.0          0.0   \n",
       "3  62.257431   11.552117     4.532378          0.0          0.0          0.0   \n",
       "4  48.833511    7.782292     5.258212          0.0          0.0          0.0   \n",
       "\n",
       "   error4count  error5count  age  x0_model1  x0_model2  x0_model3  x0_model4  \n",
       "0          1.0          0.0   14        0.0        0.0        0.0        1.0  \n",
       "1          0.0          0.0    3        0.0        0.0        1.0        0.0  \n",
       "2          0.0          0.0    1        0.0        0.0        0.0        1.0  \n",
       "3          0.0          0.0    7        0.0        0.0        1.0        0.0  \n",
       "4          0.0          0.0   16        0.0        0.0        1.0        0.0  "
      ]
     },
     "execution_count": 48,
     "metadata": {},
     "output_type": "execute_result"
    }
   ],
   "source": [
    "num = pd.DataFrame(data = X_test[numeric], columns = numeric)\n",
    "cat = pd.DataFrame(encoder.transform(X_test[categorical]).toarray(),columns = encoder.get_feature_names())\n",
    "X_test_pre = num.merge(cat, left_on=num.index, right_on= cat.index).drop(['key_0'],axis = 1)\n",
    "X_test_pre.head()"
   ]
  }
 ],
 "metadata": {
  "kernelspec": {
   "display_name": "Python 3",
   "language": "python",
   "name": "python3"
  },
  "language_info": {
   "codemirror_mode": {
    "name": "ipython",
    "version": 3
   },
   "file_extension": ".py",
   "mimetype": "text/x-python",
   "name": "python",
   "nbconvert_exporter": "python",
   "pygments_lexer": "ipython3",
   "version": "3.7.3"
  }
 },
 "nbformat": 4,
 "nbformat_minor": 2
}
